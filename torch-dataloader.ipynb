{
 "cells": [
  {
   "cell_type": "code",
   "execution_count": 2,
   "metadata": {},
   "outputs": [
    {
     "name": "stderr",
     "output_type": "stream",
     "text": [
      "/Users/koro/miniconda3/envs/deep/lib/python3.11/site-packages/torchvision/io/image.py:13: UserWarning: Failed to load image Python extension: 'dlopen(/Users/koro/miniconda3/envs/deep/lib/python3.11/site-packages/torchvision/image.so, 0x0006): Symbol not found: __ZN3c1017RegisterOperatorsD1Ev\n",
      "  Referenced from: <CFED5F8E-EC3F-36FD-AAA3-2C6C7F8D3DD9> /Users/koro/miniconda3/envs/deep/lib/python3.11/site-packages/torchvision/image.so\n",
      "  Expected in:     <E459C462-F863-3A5A-AC9F-FD77B14BE845> /Users/koro/miniconda3/envs/deep/lib/python3.11/site-packages/torch/lib/libtorch_cpu.dylib'If you don't plan on using image functionality from `torchvision.io`, you can ignore this warning. Otherwise, there might be something wrong with your environment. Did you have `libjpeg` or `libpng` installed before building `torchvision` from source?\n",
      "  warn(\n"
     ]
    }
   ],
   "source": [
    "import torch\n",
    "import torchvision\n",
    "import numpy as np\n",
    "import math\n",
    "from torch.utils.data import Dataset, DataLoader"
   ]
  },
  {
   "cell_type": "code",
   "execution_count": 3,
   "metadata": {},
   "outputs": [],
   "source": [
    "class WineDataset(Dataset):\n",
    "    def __init__(self) -> None:\n",
    "        # super().__init__()\n",
    "        xy = np.loadtxt('/Users/koro/Downloads/wine.csv', delimiter=\",\",dtype = np.float32, skiprows=1)\n",
    "        self.x = torch.from_numpy(xy[:,1:])\n",
    "        self.y = torch.from_numpy(xy[:,[0]])\n",
    "        self.n_samples =xy.shape[0]\n",
    "    def __getitem__(self, index):\n",
    "        return self.x[index], self.y[index]\n",
    "    def __len__(self):\n",
    "        return self.n_samples\n"
   ]
  },
  {
   "cell_type": "code",
   "execution_count": 4,
   "metadata": {},
   "outputs": [],
   "source": [
    "dataset = WineDataset()\n",
    "first_data = dataset[0]"
   ]
  },
  {
   "cell_type": "code",
   "execution_count": 5,
   "metadata": {},
   "outputs": [
    {
     "data": {
      "text/plain": [
       "(tensor([1.4230e+01, 1.7100e+00, 2.4300e+00, 1.5600e+01, 1.2700e+02, 2.8000e+00,\n",
       "         3.0600e+00, 2.8000e-01, 2.2900e+00, 5.6400e+00, 1.0400e+00, 3.9200e+00,\n",
       "         1.0650e+03]),\n",
       " tensor([1.]))"
      ]
     },
     "execution_count": 5,
     "metadata": {},
     "output_type": "execute_result"
    }
   ],
   "source": [
    "first_data"
   ]
  },
  {
   "cell_type": "code",
   "execution_count": 6,
   "metadata": {},
   "outputs": [],
   "source": [
    "\n",
    "dataloader = DataLoader(dataset = dataset, batch_size=4,shuffle = True)"
   ]
  },
  {
   "cell_type": "code",
   "execution_count": 7,
   "metadata": {},
   "outputs": [],
   "source": [
    "dataiter = iter(dataloader)\n",
    "data = next(dataiter)"
   ]
  },
  {
   "cell_type": "code",
   "execution_count": 8,
   "metadata": {},
   "outputs": [],
   "source": [
    "num_epochs = 10\n",
    "total_samples = len(dataset)\n",
    "n_iterations = math.ceil(total_samples/4)"
   ]
  },
  {
   "cell_type": "code",
   "execution_count": 22,
   "metadata": {},
   "outputs": [
    {
     "name": "stdout",
     "output_type": "stream",
     "text": [
      "epoch 1, step 5/45, data torch.Size([4, 13]), torch.Size([4, 1])\n",
      "epoch 1, step 10/45, data torch.Size([4, 13]), torch.Size([4, 1])\n",
      "epoch 1, step 15/45, data torch.Size([4, 13]), torch.Size([4, 1])\n",
      "epoch 1, step 20/45, data torch.Size([4, 13]), torch.Size([4, 1])\n",
      "epoch 1, step 25/45, data torch.Size([4, 13]), torch.Size([4, 1])\n",
      "epoch 1, step 30/45, data torch.Size([4, 13]), torch.Size([4, 1])\n",
      "epoch 1, step 35/45, data torch.Size([4, 13]), torch.Size([4, 1])\n",
      "epoch 1, step 40/45, data torch.Size([4, 13]), torch.Size([4, 1])\n",
      "epoch 1, step 45/45, data torch.Size([2, 13]), torch.Size([2, 1])\n",
      "epoch 2, step 5/45, data torch.Size([4, 13]), torch.Size([4, 1])\n",
      "epoch 2, step 10/45, data torch.Size([4, 13]), torch.Size([4, 1])\n",
      "epoch 2, step 15/45, data torch.Size([4, 13]), torch.Size([4, 1])\n",
      "epoch 2, step 20/45, data torch.Size([4, 13]), torch.Size([4, 1])\n",
      "epoch 2, step 25/45, data torch.Size([4, 13]), torch.Size([4, 1])\n",
      "epoch 2, step 30/45, data torch.Size([4, 13]), torch.Size([4, 1])\n",
      "epoch 2, step 35/45, data torch.Size([4, 13]), torch.Size([4, 1])\n",
      "epoch 2, step 40/45, data torch.Size([4, 13]), torch.Size([4, 1])\n",
      "epoch 2, step 45/45, data torch.Size([2, 13]), torch.Size([2, 1])\n",
      "epoch 3, step 5/45, data torch.Size([4, 13]), torch.Size([4, 1])\n",
      "epoch 3, step 10/45, data torch.Size([4, 13]), torch.Size([4, 1])\n",
      "epoch 3, step 15/45, data torch.Size([4, 13]), torch.Size([4, 1])\n",
      "epoch 3, step 20/45, data torch.Size([4, 13]), torch.Size([4, 1])\n",
      "epoch 3, step 25/45, data torch.Size([4, 13]), torch.Size([4, 1])\n",
      "epoch 3, step 30/45, data torch.Size([4, 13]), torch.Size([4, 1])\n",
      "epoch 3, step 35/45, data torch.Size([4, 13]), torch.Size([4, 1])\n",
      "epoch 3, step 40/45, data torch.Size([4, 13]), torch.Size([4, 1])\n",
      "epoch 3, step 45/45, data torch.Size([2, 13]), torch.Size([2, 1])\n",
      "epoch 4, step 5/45, data torch.Size([4, 13]), torch.Size([4, 1])\n",
      "epoch 4, step 10/45, data torch.Size([4, 13]), torch.Size([4, 1])\n",
      "epoch 4, step 15/45, data torch.Size([4, 13]), torch.Size([4, 1])\n",
      "epoch 4, step 20/45, data torch.Size([4, 13]), torch.Size([4, 1])\n",
      "epoch 4, step 25/45, data torch.Size([4, 13]), torch.Size([4, 1])\n",
      "epoch 4, step 30/45, data torch.Size([4, 13]), torch.Size([4, 1])\n",
      "epoch 4, step 35/45, data torch.Size([4, 13]), torch.Size([4, 1])\n",
      "epoch 4, step 40/45, data torch.Size([4, 13]), torch.Size([4, 1])\n",
      "epoch 4, step 45/45, data torch.Size([2, 13]), torch.Size([2, 1])\n",
      "epoch 5, step 5/45, data torch.Size([4, 13]), torch.Size([4, 1])\n",
      "epoch 5, step 10/45, data torch.Size([4, 13]), torch.Size([4, 1])\n",
      "epoch 5, step 15/45, data torch.Size([4, 13]), torch.Size([4, 1])\n",
      "epoch 5, step 20/45, data torch.Size([4, 13]), torch.Size([4, 1])\n",
      "epoch 5, step 25/45, data torch.Size([4, 13]), torch.Size([4, 1])\n",
      "epoch 5, step 30/45, data torch.Size([4, 13]), torch.Size([4, 1])\n",
      "epoch 5, step 35/45, data torch.Size([4, 13]), torch.Size([4, 1])\n",
      "epoch 5, step 40/45, data torch.Size([4, 13]), torch.Size([4, 1])\n",
      "epoch 5, step 45/45, data torch.Size([2, 13]), torch.Size([2, 1])\n",
      "epoch 6, step 5/45, data torch.Size([4, 13]), torch.Size([4, 1])\n",
      "epoch 6, step 10/45, data torch.Size([4, 13]), torch.Size([4, 1])\n",
      "epoch 6, step 15/45, data torch.Size([4, 13]), torch.Size([4, 1])\n",
      "epoch 6, step 20/45, data torch.Size([4, 13]), torch.Size([4, 1])\n",
      "epoch 6, step 25/45, data torch.Size([4, 13]), torch.Size([4, 1])\n",
      "epoch 6, step 30/45, data torch.Size([4, 13]), torch.Size([4, 1])\n",
      "epoch 6, step 35/45, data torch.Size([4, 13]), torch.Size([4, 1])\n",
      "epoch 6, step 40/45, data torch.Size([4, 13]), torch.Size([4, 1])\n",
      "epoch 6, step 45/45, data torch.Size([2, 13]), torch.Size([2, 1])\n",
      "epoch 7, step 5/45, data torch.Size([4, 13]), torch.Size([4, 1])\n",
      "epoch 7, step 10/45, data torch.Size([4, 13]), torch.Size([4, 1])\n",
      "epoch 7, step 15/45, data torch.Size([4, 13]), torch.Size([4, 1])\n",
      "epoch 7, step 20/45, data torch.Size([4, 13]), torch.Size([4, 1])\n",
      "epoch 7, step 25/45, data torch.Size([4, 13]), torch.Size([4, 1])\n",
      "epoch 7, step 30/45, data torch.Size([4, 13]), torch.Size([4, 1])\n",
      "epoch 7, step 35/45, data torch.Size([4, 13]), torch.Size([4, 1])\n",
      "epoch 7, step 40/45, data torch.Size([4, 13]), torch.Size([4, 1])\n",
      "epoch 7, step 45/45, data torch.Size([2, 13]), torch.Size([2, 1])\n",
      "epoch 8, step 5/45, data torch.Size([4, 13]), torch.Size([4, 1])\n",
      "epoch 8, step 10/45, data torch.Size([4, 13]), torch.Size([4, 1])\n",
      "epoch 8, step 15/45, data torch.Size([4, 13]), torch.Size([4, 1])\n",
      "epoch 8, step 20/45, data torch.Size([4, 13]), torch.Size([4, 1])\n",
      "epoch 8, step 25/45, data torch.Size([4, 13]), torch.Size([4, 1])\n",
      "epoch 8, step 30/45, data torch.Size([4, 13]), torch.Size([4, 1])\n",
      "epoch 8, step 35/45, data torch.Size([4, 13]), torch.Size([4, 1])\n",
      "epoch 8, step 40/45, data torch.Size([4, 13]), torch.Size([4, 1])\n",
      "epoch 8, step 45/45, data torch.Size([2, 13]), torch.Size([2, 1])\n",
      "epoch 9, step 5/45, data torch.Size([4, 13]), torch.Size([4, 1])\n",
      "epoch 9, step 10/45, data torch.Size([4, 13]), torch.Size([4, 1])\n",
      "epoch 9, step 15/45, data torch.Size([4, 13]), torch.Size([4, 1])\n",
      "epoch 9, step 20/45, data torch.Size([4, 13]), torch.Size([4, 1])\n",
      "epoch 9, step 25/45, data torch.Size([4, 13]), torch.Size([4, 1])\n",
      "epoch 9, step 30/45, data torch.Size([4, 13]), torch.Size([4, 1])\n",
      "epoch 9, step 35/45, data torch.Size([4, 13]), torch.Size([4, 1])\n",
      "epoch 9, step 40/45, data torch.Size([4, 13]), torch.Size([4, 1])\n",
      "epoch 9, step 45/45, data torch.Size([2, 13]), torch.Size([2, 1])\n",
      "epoch 10, step 5/45, data torch.Size([4, 13]), torch.Size([4, 1])\n",
      "epoch 10, step 10/45, data torch.Size([4, 13]), torch.Size([4, 1])\n",
      "epoch 10, step 15/45, data torch.Size([4, 13]), torch.Size([4, 1])\n",
      "epoch 10, step 20/45, data torch.Size([4, 13]), torch.Size([4, 1])\n",
      "epoch 10, step 25/45, data torch.Size([4, 13]), torch.Size([4, 1])\n",
      "epoch 10, step 30/45, data torch.Size([4, 13]), torch.Size([4, 1])\n",
      "epoch 10, step 35/45, data torch.Size([4, 13]), torch.Size([4, 1])\n",
      "epoch 10, step 40/45, data torch.Size([4, 13]), torch.Size([4, 1])\n",
      "epoch 10, step 45/45, data torch.Size([2, 13]), torch.Size([2, 1])\n"
     ]
    }
   ],
   "source": [
    "for epoch in range(num_epochs):\n",
    "    for i, (inputs,labels) in enumerate(dataloader):\n",
    "        if (i+1)%5 == 0:\n",
    "            print(f\"epoch {epoch +1}, step {i+1}/{n_iterations}, data {inputs.shape}, {labels.shape}\")"
   ]
  },
  {
   "cell_type": "code",
   "execution_count": 14,
   "metadata": {},
   "outputs": [],
   "source": [
    "class WineDataset(Dataset):\n",
    "    def __init__(self,transform = None):\n",
    "        # super().__init__()\n",
    "        xy = np.loadtxt('/Users/koro/Downloads/wine.csv', delimiter=\",\",dtype = np.float32, skiprows=1)\n",
    "        self.x = xy[:,1:]\n",
    "        self.y = xy[:,[0]]\n",
    "        self.n_samples =xy.shape[0]\n",
    "        self.transform = transform\n",
    "    def __getitem__(self, index):\n",
    "        sample = self.x[index], self.y[index]\n",
    "        if self.transform:\n",
    "            sample = self.transform(sample)\n",
    "        return sample\n",
    "    def __len__(self):\n",
    "        return self.n_samples\n"
   ]
  },
  {
   "cell_type": "code",
   "execution_count": 15,
   "metadata": {},
   "outputs": [],
   "source": [
    "\n",
    "class ToTensor:\n",
    "    def __call__(self,sample):\n",
    "        inputs, targets = sample\n",
    "        return torch.from_numpy(inputs), torch.from_numpy(targets)"
   ]
  },
  {
   "cell_type": "code",
   "execution_count": 16,
   "metadata": {},
   "outputs": [],
   "source": [
    "dataset = WineDataset(transform=ToTensor())"
   ]
  },
  {
   "cell_type": "code",
   "execution_count": 18,
   "metadata": {},
   "outputs": [
    {
     "data": {
      "text/plain": [
       "(tensor([1.4230e+01, 1.7100e+00, 2.4300e+00, 1.5600e+01, 1.2700e+02, 2.8000e+00,\n",
       "         3.0600e+00, 2.8000e-01, 2.2900e+00, 5.6400e+00, 1.0400e+00, 3.9200e+00,\n",
       "         1.0650e+03]),\n",
       " tensor([1.]))"
      ]
     },
     "execution_count": 18,
     "metadata": {},
     "output_type": "execute_result"
    }
   ],
   "source": [
    "dataset[0]"
   ]
  },
  {
   "cell_type": "code",
   "execution_count": 19,
   "metadata": {},
   "outputs": [],
   "source": [
    "class multransform:\n",
    "    def __init__(self,factor):\n",
    "        self.factor = factor\n",
    "    def __call__(self,sample):\n",
    "        inputs, target = sample\n",
    "        inputs *= self.factor\n",
    "        return inputs,target"
   ]
  },
  {
   "cell_type": "code",
   "execution_count": 20,
   "metadata": {},
   "outputs": [],
   "source": [
    "composed = torchvision.transforms.Compose([ToTensor(), multransform(2)])"
   ]
  },
  {
   "cell_type": "code",
   "execution_count": 21,
   "metadata": {},
   "outputs": [],
   "source": [
    "dataset = WineDataset(composed)"
   ]
  },
  {
   "cell_type": "code",
   "execution_count": 22,
   "metadata": {},
   "outputs": [
    {
     "data": {
      "text/plain": [
       "(tensor([2.8460e+01, 3.4200e+00, 4.8600e+00, 3.1200e+01, 2.5400e+02, 5.6000e+00,\n",
       "         6.1200e+00, 5.6000e-01, 4.5800e+00, 1.1280e+01, 2.0800e+00, 7.8400e+00,\n",
       "         2.1300e+03]),\n",
       " tensor([1.]))"
      ]
     },
     "execution_count": 22,
     "metadata": {},
     "output_type": "execute_result"
    }
   ],
   "source": [
    "dataset[0]"
   ]
  },
  {
   "cell_type": "code",
   "execution_count": null,
   "metadata": {},
   "outputs": [],
   "source": []
  }
 ],
 "metadata": {
  "kernelspec": {
   "display_name": "deep",
   "language": "python",
   "name": "python3"
  },
  "language_info": {
   "codemirror_mode": {
    "name": "ipython",
    "version": 3
   },
   "file_extension": ".py",
   "mimetype": "text/x-python",
   "name": "python",
   "nbconvert_exporter": "python",
   "pygments_lexer": "ipython3",
   "version": "3.11.5"
  }
 },
 "nbformat": 4,
 "nbformat_minor": 2
}
