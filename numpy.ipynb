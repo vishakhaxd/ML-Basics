{
 "cells": [
  {
   "cell_type": "code",
   "execution_count": 1,
   "metadata": {},
   "outputs": [],
   "source": [
    "import numpy as np\n",
    "import matplotlib.pyplot as plt\n",
    "import seaborn as sns"
   ]
  },
  {
   "cell_type": "markdown",
   "metadata": {},
   "source": [
    "\n",
    "https://lectures.scientific-python.org/intro/numpy/\n",
    "1.3.1. The NumPy array object"
   ]
  },
  {
   "cell_type": "code",
   "execution_count": 349,
   "metadata": {},
   "outputs": [],
   "source": [
    "a = np.arange(1,1001)"
   ]
  },
  {
   "cell_type": "code",
   "execution_count": 32,
   "metadata": {},
   "outputs": [],
   "source": [
    "b = np.array([1,2.0,3,5], dtype=complex)"
   ]
  },
  {
   "cell_type": "code",
   "execution_count": 39,
   "metadata": {},
   "outputs": [],
   "source": [
    "c= np.array([[1, 2],[3,4],[5,6]],dtype=complex)"
   ]
  },
  {
   "cell_type": "code",
   "execution_count": 40,
   "metadata": {},
   "outputs": [
    {
     "data": {
      "text/plain": [
       "array([[1.+0.j, 1.+0.j],\n",
       "       [1.+0.j, 1.+0.j],\n",
       "       [1.+0.j, 1.+0.j]])"
      ]
     },
     "execution_count": 40,
     "metadata": {},
     "output_type": "execute_result"
    }
   ],
   "source": [
    "np.ones_like(c)"
   ]
  },
  {
   "cell_type": "code",
   "execution_count": 47,
   "metadata": {},
   "outputs": [],
   "source": [
    "d = np.ones([2,3])"
   ]
  },
  {
   "cell_type": "code",
   "execution_count": 48,
   "metadata": {},
   "outputs": [
    {
     "data": {
      "text/plain": [
       "array([[1., 1., 1.],\n",
       "       [1., 1., 1.]])"
      ]
     },
     "execution_count": 48,
     "metadata": {},
     "output_type": "execute_result"
    }
   ],
   "source": [
    "d"
   ]
  },
  {
   "cell_type": "code",
   "execution_count": 52,
   "metadata": {},
   "outputs": [
    {
     "name": "stdout",
     "output_type": "stream",
     "text": [
      "np.mat\n",
      "np.matlib\n",
      "np.matmul\n",
      "np.matrix"
     ]
    }
   ],
   "source": [
    "np.mat*?"
   ]
  },
  {
   "cell_type": "code",
   "execution_count": 90,
   "metadata": {},
   "outputs": [],
   "source": [
    "e = np.mat(np.ones([2,3]))\n",
    "f = np.mat([[1,2,3],[4,5,6],[7,8,9]])"
   ]
  },
  {
   "cell_type": "code",
   "execution_count": 88,
   "metadata": {},
   "outputs": [],
   "source": [
    "g = np.array([[1,2,3],[4,5,6],[7,8,9]])"
   ]
  },
  {
   "cell_type": "code",
   "execution_count": 92,
   "metadata": {},
   "outputs": [],
   "source": [
    "h = np.arange(9,0,-2)"
   ]
  },
  {
   "cell_type": "code",
   "execution_count": 101,
   "metadata": {},
   "outputs": [
    {
     "data": {
      "text/plain": [
       "array([1. , 1.4, 1.8, 2.2, 2.6, 3. , 3.4, 3.8, 4.2, 4.6])"
      ]
     },
     "execution_count": 101,
     "metadata": {},
     "output_type": "execute_result"
    }
   ],
   "source": [
    "l = np.linspace(1,5,10, endpoint=False)\n",
    "l"
   ]
  },
  {
   "cell_type": "code",
   "execution_count": 108,
   "metadata": {},
   "outputs": [
    {
     "data": {
      "text/plain": [
       "array([[3., 0., 0.],\n",
       "       [0., 3., 0.],\n",
       "       [0., 0., 3.]])"
      ]
     },
     "execution_count": 108,
     "metadata": {},
     "output_type": "execute_result"
    }
   ],
   "source": [
    "m = 3*np.eye(3)\n",
    "m"
   ]
  },
  {
   "cell_type": "code",
   "execution_count": 110,
   "metadata": {},
   "outputs": [
    {
     "data": {
      "text/plain": [
       "array([[1, 0, 0, 0, 0, 0, 0],\n",
       "       [0, 2, 0, 0, 0, 0, 0],\n",
       "       [0, 0, 3, 0, 0, 0, 0],\n",
       "       [0, 0, 0, 4, 0, 0, 0],\n",
       "       [0, 0, 0, 0, 5, 0, 0],\n",
       "       [0, 0, 0, 0, 0, 6, 0],\n",
       "       [0, 0, 0, 0, 0, 0, 7]])"
      ]
     },
     "execution_count": 110,
     "metadata": {},
     "output_type": "execute_result"
    }
   ],
   "source": [
    "n = np.diag([1,2,3,4,5,6,7])\n",
    "n"
   ]
  },
  {
   "cell_type": "code",
   "execution_count": 129,
   "metadata": {},
   "outputs": [],
   "source": [
    "o = np.random.randint(100,size = (2,3))\n",
    "p = np.random.rand(2,3)"
   ]
  },
  {
   "cell_type": "code",
   "execution_count": 130,
   "metadata": {},
   "outputs": [
    {
     "data": {
      "text/plain": [
       "(array([[35, 14, 38],\n",
       "        [47, 79, 91]]),\n",
       " array([[0.67752868, 0.10725004, 0.37902374],\n",
       "        [0.95655941, 0.82899536, 0.78037878]]))"
      ]
     },
     "execution_count": 130,
     "metadata": {},
     "output_type": "execute_result"
    }
   ],
   "source": [
    "o,p"
   ]
  },
  {
   "cell_type": "code",
   "execution_count": 147,
   "metadata": {},
   "outputs": [
    {
     "data": {
      "text/plain": [
       "array([-2.38806293e-01, -1.43941503e-02, -3.81599388e-01, -2.37121774e+00,\n",
       "        7.57683872e-01, -5.10080469e-01, -1.33936706e+00,  2.92904854e-01,\n",
       "        1.82558952e+00,  3.86779347e-02, -2.63568916e+00,  2.07712575e-01,\n",
       "        2.52286057e-01, -7.83543213e-01, -7.20881717e-01,  5.50148831e-01,\n",
       "        2.15957145e-02,  9.86297490e-01,  5.58339725e-01,  1.99462073e+00,\n",
       "        1.70484360e+00,  6.16319180e-02, -1.16197761e+00, -6.58738975e-01,\n",
       "       -1.90066404e+00,  5.80330880e-01, -9.58837351e-01, -5.01166781e-01,\n",
       "       -4.86998478e-01, -7.23843347e-02, -4.84624434e-01, -9.21690655e-01,\n",
       "        1.48399809e+00, -1.80514893e+00,  1.37502789e+00, -2.58882109e-01,\n",
       "       -7.56115946e-01,  5.44553120e-01,  9.64883130e-01,  1.58739779e-01,\n",
       "        1.50697806e+00, -6.39783404e-01,  4.29994675e-01, -1.31698973e-01,\n",
       "        3.08196299e-01,  7.83872389e-01,  1.58939561e-01, -2.43624230e+00,\n",
       "       -1.18150343e+00,  4.76301840e-01, -2.26838210e-01, -3.64096075e-01,\n",
       "       -1.07938056e-01, -4.74754719e-01,  5.01259860e-01, -9.10004948e-01,\n",
       "       -9.95684882e-02, -3.07288858e-01, -1.09268947e-01, -6.70175877e-02,\n",
       "       -5.61762018e-01, -7.19464450e-01,  1.70058868e+00,  3.45317490e-01,\n",
       "        1.72244511e-01, -7.16005378e-02,  6.46667090e-01, -8.56253741e-02,\n",
       "        4.09465974e-02, -4.55954909e-01,  9.18447894e-01, -7.06955846e-02,\n",
       "        1.28653070e-02, -5.55377956e-03,  1.65239076e-01, -1.58592106e+00,\n",
       "       -2.39016755e+00,  4.55786185e-01,  8.37057673e-01,  2.22289257e+00,\n",
       "        1.20164428e+00,  2.60595617e-03,  5.92288012e-01,  1.37432701e+00,\n",
       "       -2.51938971e-01,  2.49152623e-01,  1.34413818e-01, -2.59192927e-01,\n",
       "       -7.55166430e-01,  1.07358871e+00,  7.48511571e-01, -1.01839309e+00,\n",
       "        4.28316599e-01,  3.87394086e-02,  4.08445336e-01,  2.41860399e-01,\n",
       "        1.82425554e-02,  3.79809562e-01, -2.98534049e-01, -4.07857910e-01])"
      ]
     },
     "execution_count": 147,
     "metadata": {},
     "output_type": "execute_result"
    }
   ],
   "source": [
    "q = np.random.normal(size = 100)\n"
   ]
  },
  {
   "cell_type": "code",
   "execution_count": 201,
   "metadata": {},
   "outputs": [],
   "source": [
    "np.random.seed(10)\n",
    "o = np.random.rand(2,3)\n",
    "p = np.random.randint(1000,size =(2,4))\n",
    "q = np.random.normal(loc= 10,scale=20,size=(3,2))\n",
    "\n"
   ]
  },
  {
   "cell_type": "code",
   "execution_count": 204,
   "metadata": {},
   "outputs": [],
   "source": [
    "r =np.empty([2,3])"
   ]
  },
  {
   "cell_type": "code",
   "execution_count": 209,
   "metadata": {},
   "outputs": [],
   "source": [
    "s = np.zeros((2,3))"
   ]
  },
  {
   "cell_type": "code",
   "execution_count": 221,
   "metadata": {},
   "outputs": [],
   "source": [
    "t = np.array(np.random.rand(3),dtype='float16')"
   ]
  },
  {
   "cell_type": "code",
   "execution_count": 231,
   "metadata": {},
   "outputs": [],
   "source": [
    "u = np.array(np.random.randint(3,size = 2),dtype=str)"
   ]
  },
  {
   "cell_type": "code",
   "execution_count": 266,
   "metadata": {},
   "outputs": [
    {
     "name": "stdout",
     "output_type": "stream",
     "text": [
      "Using matplotlib backend: MacOSX\n"
     ]
    },
    {
     "data": {
      "text/plain": [
       "[<matplotlib.lines.Line2D at 0x288762d90>]"
      ]
     },
     "execution_count": 266,
     "metadata": {},
     "output_type": "execute_result"
    },
    {
     "data": {
      "image/png": "[encoded data removed]",
      "text/plain": [
       "<Figure size 640x480 with 1 Axes>"
      ]
     },
     "metadata": {},
     "output_type": "display_data"
    }
   ],
   "source": [
    "%matplotlib  \n",
    "%matplotlib inline \n",
    "import matplotlib.pyplot as plt \n",
    "np.random.seed(1000)\n",
    "x = np.linspace(0,10,11)\n",
    "y = np.linspace(0,20000,11)*np.random.rand(11)//1000\n",
    "plt.plot(x, y,'r')"
   ]
  },
  {
   "cell_type": "code",
   "execution_count": 316,
   "metadata": {},
   "outputs": [
    {
     "data": {
      "text/plain": [
       "<matplotlib.image.AxesImage at 0x2899bf940>"
      ]
     },
     "execution_count": 316,
     "metadata": {},
     "output_type": "execute_result"
    },
    {
     "data": {
      "image/png": "[encoded data removed]",
      "text/plain": [
       "<Figure size 640x480 with 1 Axes>"
      ]
     },
     "metadata": {},
     "output_type": "display_data"
    }
   ],
   "source": [
    "img = np.random.randint(10, size = (100,100))*matrix\n",
    "plt.imshow(img, cmap=plt.cm.hot)"
   ]
  },
  {
   "cell_type": "code",
   "execution_count": 303,
   "metadata": {},
   "outputs": [],
   "source": [
    "matrix = np.diag(np.linspace(1,100,100))"
   ]
  },
  {
   "cell_type": "code",
   "execution_count": 334,
   "metadata": {},
   "outputs": [
    {
     "data": {
      "text/plain": [
       "array([[ 9,  6,  3,  0],\n",
       "       [29, 26, 23, 20],\n",
       "       [49, 46, 43, 40]])"
      ]
     },
     "execution_count": 334,
     "metadata": {},
     "output_type": "execute_result"
    }
   ],
   "source": [
    "v = np.array([np.arange(0,10),np.arange(10,20),np.arange(20,30),np.arange(30,40),np.arange(40,50)])\n",
    "v[::2, 9::-3]"
   ]
  },
  {
   "cell_type": "code",
   "execution_count": 335,
   "metadata": {},
   "outputs": [
    {
     "data": {
      "text/plain": [
       "array([[ 0,  1,  2,  3,  4,  5],\n",
       "       [10, 11, 12, 13, 14, 15],\n",
       "       [20, 21, 22, 23, 24, 25],\n",
       "       [30, 31, 32, 33, 34, 35],\n",
       "       [40, 41, 42, 43, 44, 45],\n",
       "       [50, 51, 52, 53, 54, 55]])"
      ]
     },
     "execution_count": 335,
     "metadata": {},
     "output_type": "execute_result"
    }
   ],
   "source": [
    "np.arange(6) + np.arange(0, 51, 10)[:, np.newaxis]"
   ]
  },
  {
   "cell_type": "code",
   "execution_count": 341,
   "metadata": {},
   "outputs": [],
   "source": [
    "w = np.ones((4,4))\n",
    "w[2,-1] +=1\n",
    "w[-1,1] = 6"
   ]
  },
  {
   "cell_type": "code",
   "execution_count": 343,
   "metadata": {},
   "outputs": [],
   "source": [
    "z = np.zeros((6,5))"
   ]
  },
  {
   "cell_type": "code",
   "execution_count": 345,
   "metadata": {},
   "outputs": [],
   "source": [
    "for i in range(1,6):\n",
    "    z[i,i-1] = i+1"
   ]
  },
  {
   "cell_type": "code",
   "execution_count": 347,
   "metadata": {},
   "outputs": [
    {
     "data": {
      "text/plain": [
       "array([[0, 0, 0, 0, 0, 0],\n",
       "       [2, 0, 0, 0, 0, 0],\n",
       "       [0, 3, 0, 0, 0, 0],\n",
       "       [0, 0, 4, 0, 0, 0],\n",
       "       [0, 0, 0, 5, 0, 0],\n",
       "       [0, 0, 0, 0, 6, 0]])"
      ]
     },
     "execution_count": 347,
     "metadata": {},
     "output_type": "execute_result"
    }
   ],
   "source": [
    "np.diag(np.arange(2,7), k =-1)"
   ]
  },
  {
   "cell_type": "code",
   "execution_count": 356,
   "metadata": {},
   "outputs": [
    {
     "data": {
      "text/plain": [
       "array([[ 0,  1,  2,  0,  4,  5,  0,  7,  8,  0],\n",
       "       [10, 11,  0, 13, 14,  0, 16, 17,  0, 19],\n",
       "       [20,  0, 22, 23,  0, 25, 26,  0, 28, 29],\n",
       "       [ 0, 31, 32,  0, 34, 35,  0, 37, 38,  0],\n",
       "       [40, 41,  0, 43, 44,  0, 46, 47,  0, 49]])"
      ]
     },
     "execution_count": 356,
     "metadata": {},
     "output_type": "execute_result"
    }
   ],
   "source": [
    "v[v%3 == 0] = 0\n",
    "v"
   ]
  },
  {
   "cell_type": "markdown",
   "metadata": {},
   "source": [
    "1.3.2. Numerical operations on arrays"
   ]
  },
  {
   "cell_type": "code",
   "execution_count": 359,
   "metadata": {},
   "outputs": [
    {
     "data": {
      "text/plain": [
       "array([[ 0,  2,  4,  0,  8, 10,  0, 14, 16,  0],\n",
       "       [20, 22,  0, 26, 28,  0, 32, 34,  0, 38],\n",
       "       [40,  0, 44, 46,  0, 50, 52,  0, 56, 58],\n",
       "       [ 0, 62, 64,  0, 68, 70,  0, 74, 76,  0],\n",
       "       [80, 82,  0, 86, 88,  0, 92, 94,  0, 98]])"
      ]
     },
     "execution_count": 359,
     "metadata": {},
     "output_type": "execute_result"
    }
   ],
   "source": [
    "2*v"
   ]
  },
  {
   "cell_type": "code",
   "execution_count": 380,
   "metadata": {},
   "outputs": [
    {
     "data": {
      "text/plain": [
       "array([0.5, 1. , 1.5, 2. ])"
      ]
     },
     "execution_count": 380,
     "metadata": {},
     "output_type": "execute_result"
    }
   ],
   "source": [
    "a1 = np.array([1, 2, 3, 4],dtype=int)\n",
    "b1 = np.ones(4) + 1\n",
    "a1/b1"
   ]
  },
  {
   "cell_type": "code",
   "execution_count": 378,
   "metadata": {},
   "outputs": [],
   "source": [
    "a1**3\n",
    "2**a1"
   ]
  },
  {
   "cell_type": "code",
   "execution_count": 386,
   "metadata": {},
   "outputs": [],
   "source": [
    "c1 = np.ones((3,3),dtype=int)\n",
    "c2 = np.eye(3,dtype=int)"
   ]
  },
  {
   "cell_type": "code",
   "execution_count": 388,
   "metadata": {},
   "outputs": [
    {
     "data": {
      "text/plain": [
       "array([[1, 0, 0],\n",
       "       [0, 1, 0],\n",
       "       [0, 0, 1]])"
      ]
     },
     "execution_count": 388,
     "metadata": {},
     "output_type": "execute_result"
    }
   ],
   "source": [
    "c1*c2"
   ]
  },
  {
   "cell_type": "code",
   "execution_count": 390,
   "metadata": {},
   "outputs": [
    {
     "data": {
      "text/plain": [
       "array([ 3,  7, 11, 15, 19])"
      ]
     },
     "execution_count": 390,
     "metadata": {},
     "output_type": "execute_result"
    }
   ],
   "source": [
    "d1 = np.arange(1,11)\n",
    "d1[d1%2 ==0]+d1[d1%2 ==1]"
   ]
  },
  {
   "cell_type": "code",
   "execution_count": 404,
   "metadata": {},
   "outputs": [
    {
     "data": {
      "text/plain": [
       "array([ 2,  4,  8, 16])"
      ]
     },
     "execution_count": 404,
     "metadata": {},
     "output_type": "execute_result"
    }
   ],
   "source": [
    "e1 = 2**a1\n",
    "e1"
   ]
  },
  {
   "cell_type": "code",
   "execution_count": 399,
   "metadata": {},
   "outputs": [
    {
     "data": {
      "text/plain": [
       "array([-0.41614684, -0.65364362, -0.14550003, -0.95765948])"
      ]
     },
     "execution_count": 399,
     "metadata": {},
     "output_type": "execute_result"
    }
   ],
   "source": [
    "np.sqrt(e1)\n",
    "np.cos(e1)"
   ]
  },
  {
   "cell_type": "code",
   "execution_count": 402,
   "metadata": {},
   "outputs": [
    {
     "data": {
      "text/plain": [
       "array([1., 2., 3., 4.])"
      ]
     },
     "execution_count": 402,
     "metadata": {},
     "output_type": "execute_result"
    }
   ],
   "source": [
    "np.log2(e1)"
   ]
  },
  {
   "cell_type": "code",
   "execution_count": 440,
   "metadata": {},
   "outputs": [],
   "source": [
    "f1 = np.triu(np.ones((6,2)))"
   ]
  },
  {
   "cell_type": "code",
   "execution_count": 441,
   "metadata": {},
   "outputs": [],
   "source": [
    "g1 = f1.T.copy()"
   ]
  },
  {
   "cell_type": "code",
   "execution_count": 442,
   "metadata": {},
   "outputs": [],
   "source": [
    "g1[0,5] = 99"
   ]
  },
  {
   "cell_type": "code",
   "execution_count": 448,
   "metadata": {},
   "outputs": [
    {
     "data": {
      "text/plain": [
       "array([5, 5])"
      ]
     },
     "execution_count": 448,
     "metadata": {},
     "output_type": "execute_result"
    }
   ],
   "source": [
    "h1 = np.array([[2,3],[0,5]])\n",
    "h1.sum(axis = 1)"
   ]
  },
  {
   "cell_type": "code",
   "execution_count": 465,
   "metadata": {},
   "outputs": [],
   "source": [
    "l1= np.tile(h1, (2, 2))"
   ]
  },
  {
   "cell_type": "code",
   "execution_count": 466,
   "metadata": {},
   "outputs": [],
   "source": [
    "m1=l1.ravel()"
   ]
  },
  {
   "cell_type": "code",
   "execution_count": 467,
   "metadata": {},
   "outputs": [],
   "source": [
    "m1 = m1.reshape(4,4)"
   ]
  },
  {
   "cell_type": "code",
   "execution_count": 459,
   "metadata": {},
   "outputs": [],
   "source": [
    "m1.sort(axis = 0)"
   ]
  },
  {
   "cell_type": "code",
   "execution_count": 460,
   "metadata": {},
   "outputs": [
    {
     "data": {
      "text/plain": [
       "array([[0, 0, 0, 0],\n",
       "       [2, 2, 2, 2],\n",
       "       [3, 3, 3, 3],\n",
       "       [5, 5, 5, 5]])"
      ]
     },
     "execution_count": 460,
     "metadata": {},
     "output_type": "execute_result"
    }
   ],
   "source": [
    "m1"
   ]
  },
  {
   "cell_type": "code",
   "execution_count": 468,
   "metadata": {},
   "outputs": [],
   "source": [
    "j = np.argsort(m1,axis = 0)"
   ]
  },
  {
   "cell_type": "code",
   "execution_count": 469,
   "metadata": {},
   "outputs": [
    {
     "data": {
      "text/plain": [
       "array([[1, 0, 1, 0],\n",
       "       [3, 2, 3, 2],\n",
       "       [0, 1, 0, 1],\n",
       "       [2, 3, 2, 3]])"
      ]
     },
     "execution_count": 469,
     "metadata": {},
     "output_type": "execute_result"
    }
   ],
   "source": [
    "j"
   ]
  },
  {
   "cell_type": "code",
   "execution_count": 470,
   "metadata": {},
   "outputs": [
    {
     "data": {
      "text/plain": [
       "array([[[0, 5, 0, 5],\n",
       "        [2, 3, 2, 3],\n",
       "        [0, 5, 0, 5],\n",
       "        [2, 3, 2, 3]],\n",
       "\n",
       "       [[0, 5, 0, 5],\n",
       "        [2, 3, 2, 3],\n",
       "        [0, 5, 0, 5],\n",
       "        [2, 3, 2, 3]],\n",
       "\n",
       "       [[2, 3, 2, 3],\n",
       "        [0, 5, 0, 5],\n",
       "        [2, 3, 2, 3],\n",
       "        [0, 5, 0, 5]],\n",
       "\n",
       "       [[2, 3, 2, 3],\n",
       "        [0, 5, 0, 5],\n",
       "        [2, 3, 2, 3],\n",
       "        [0, 5, 0, 5]]])"
      ]
     },
     "execution_count": 470,
     "metadata": {},
     "output_type": "execute_result"
    }
   ],
   "source": [
    "m1[j]"
   ]
  },
  {
   "cell_type": "code",
   "execution_count": 471,
   "metadata": {},
   "outputs": [],
   "source": [
    "n1 = np.arange(11)\n",
    "o1 = np.linspace(0,1,11)"
   ]
  },
  {
   "cell_type": "code",
   "execution_count": 479,
   "metadata": {},
   "outputs": [],
   "source": [
    "matrix2 = np.outer(n1,o1)"
   ]
  },
  {
   "cell_type": "code",
   "execution_count": 482,
   "metadata": {},
   "outputs": [],
   "source": [
    "qr = np.linalg.qr(matrix2)"
   ]
  },
  {
   "cell_type": "code",
   "execution_count": 487,
   "metadata": {},
   "outputs": [
    {
     "data": {
      "text/plain": [
       "array([[-0.00000000e+00,  0.00000000e+00,  0.00000000e+00,\n",
       "         0.00000000e+00, -0.00000000e+00, -0.00000000e+00,\n",
       "        -0.00000000e+00, -0.00000000e+00, -0.00000000e+00,\n",
       "         0.00000000e+00,  1.00000000e+00],\n",
       "       [-5.09647191e-02,  3.65275138e-01, -1.71268631e-01,\n",
       "         1.66195858e-02, -9.12819259e-01, -3.35934167e-02,\n",
       "         1.17870663e-14,  6.98225446e-15,  7.33134007e-15,\n",
       "         6.52229732e-15,  0.00000000e+00],\n",
       "       [-1.01929438e-01, -1.23628829e-01, -1.12517990e-01,\n",
       "         6.97992086e-02, -1.90563797e-02, -6.36394279e-02,\n",
       "        -6.68913979e-01, -4.34371337e-01, -4.29392672e-01,\n",
       "        -3.63150817e-01,  0.00000000e+00],\n",
       "       [-1.52894157e-01, -5.16060711e-02, -5.89235805e-02,\n",
       "        -4.12812838e-01, -8.54190142e-03, -8.93394831e-04,\n",
       "        -9.38602918e-02, -6.40844422e-01,  5.35410990e-01,\n",
       "         3.06339264e-01,  0.00000000e+00],\n",
       "       [-2.03858877e-01, -2.47257657e-01, -2.25035980e-01,\n",
       "         1.39598417e-01, -3.81127593e-02, -1.27278856e-01,\n",
       "         6.07014715e-01, -4.00977390e-01, -4.89249569e-01,\n",
       "         2.02259579e-01,  0.00000000e+00],\n",
       "       [-2.54823596e-01, -5.84275917e-02,  1.81500751e-01,\n",
       "         7.62209598e-02, -5.28665566e-02,  3.00173486e-01,\n",
       "         3.51571447e-01, -1.82549317e-01,  2.74285506e-01,\n",
       "        -7.53552072e-01,  0.00000000e+00],\n",
       "       [-3.05788315e-01, -1.03212142e-01, -1.17847161e-01,\n",
       "        -8.25625677e-01, -1.70838028e-02, -1.78678966e-03,\n",
       "         4.69301459e-02,  3.20422211e-01, -2.67705495e-01,\n",
       "        -1.53169632e-01,  0.00000000e+00],\n",
       "       [-3.56753034e-01,  9.39028511e-02,  6.31122387e-01,\n",
       "         3.25109831e-02, -3.52790489e-02, -6.80655923e-01,\n",
       "         2.28378212e-13,  1.34230484e-13,  1.49056801e-13,\n",
       "         1.29029307e-13,  0.00000000e+00],\n",
       "       [-4.07717753e-01, -4.94515315e-01, -4.50071959e-01,\n",
       "         2.79196834e-01, -7.62255187e-02, -2.54557712e-01,\n",
       "        -1.36278863e-01,  3.09081529e-01,  3.51972952e-01,\n",
       "        -1.03420853e-02,  0.00000000e+00],\n",
       "       [-4.58682472e-01,  7.11621841e-01, -3.52721952e-01,\n",
       "         1.23433928e-01,  3.78881443e-01, -2.21059640e-03,\n",
       "         1.08396234e-15,  6.53424029e-16,  7.51237253e-16,\n",
       "         6.19293716e-16,  0.00000000e+00],\n",
       "       [-5.09647191e-01, -1.16855183e-01,  3.63001502e-01,\n",
       "         1.52441920e-01, -1.05733113e-01,  6.00346971e-01,\n",
       "        -1.75785723e-01,  9.12746585e-02, -1.37142753e-01,\n",
       "         3.76776036e-01,  0.00000000e+00]])"
      ]
     },
     "execution_count": 487,
     "metadata": {},
     "output_type": "execute_result"
    }
   ],
   "source": [
    "U,S,V = np.linalg.svd(matrix2)\n",
    "V.T"
   ]
  },
  {
   "cell_type": "code",
   "execution_count": 493,
   "metadata": {},
   "outputs": [],
   "source": [
    "eigvals = np.linalg.eigvals(matrix2)"
   ]
  },
  {
   "cell_type": "code",
   "execution_count": 494,
   "metadata": {},
   "outputs": [
    {
     "data": {
      "text/plain": [
       "array([ 0.00000000e+00+0.0000000e+00j,  3.85000000e+01+0.0000000e+00j,\n",
       "       -9.23645883e-17+5.7833078e-16j, -9.23645883e-17-5.7833078e-16j,\n",
       "       -2.65393724e-16+0.0000000e+00j,  3.74795326e-17+0.0000000e+00j,\n",
       "        4.00703071e-30+0.0000000e+00j, -3.26385511e-32+0.0000000e+00j,\n",
       "        7.39806260e-33+0.0000000e+00j,  2.86678083e-32+0.0000000e+00j,\n",
       "        0.00000000e+00+0.0000000e+00j])"
      ]
     },
     "execution_count": 494,
     "metadata": {},
     "output_type": "execute_result"
    }
   ],
   "source": [
    "eigvals"
   ]
  },
  {
   "cell_type": "code",
   "execution_count": 495,
   "metadata": {},
   "outputs": [
    {
     "data": {
      "text/plain": [
       "1.9621416870348585"
      ]
     },
     "execution_count": 495,
     "metadata": {},
     "output_type": "execute_result"
    }
   ],
   "source": [
    "np.linalg.norm(o1)"
   ]
  },
  {
   "cell_type": "code",
   "execution_count": 496,
   "metadata": {},
   "outputs": [
    {
     "data": {
      "text/plain": [
       "0.0"
      ]
     },
     "execution_count": 496,
     "metadata": {},
     "output_type": "execute_result"
    }
   ],
   "source": [
    "np.linalg.det(matrix2)"
   ]
  },
  {
   "cell_type": "code",
   "execution_count": 498,
   "metadata": {},
   "outputs": [],
   "source": [
    "np.linalg.inv(matrix2)"
   ]
  },
  {
   "cell_type": "markdown",
   "metadata": {},
   "source": [
    "Part 1: Array Creation and Basic Operations\n",
    "Create Arrays:\n",
    "\n",
    "Create a 1D NumPy array containing the numbers from 1 to 10.\n",
    "Create a 2D NumPy array (3x3) filled with 9's.\n",
    "Create a 3D NumPy array (2x2x2) filled with random numbers.\n",
    "Array Indexing:\n",
    "\n",
    "Extract the third element from the 1D array you created.\n",
    "Extract the second row from the 2D array you created.\n",
    "Replace the first element in the 3D array with the value 8.\n",
    "Array Operations:\n",
    "\n",
    "Calculate the sum of the 1D array.\n",
    "Calculate the mean value of the 2D array.\n",
    "Flatten the 3D array and find the maximum value.\n"
   ]
  },
  {
   "cell_type": "code",
   "execution_count": 500,
   "metadata": {},
   "outputs": [],
   "source": [
    "ans1 = np.arange(1,11)\n",
    "ans2 = 9*np.ones((3,3))\n",
    "ans3 = np.random.randint(100, size=(2,2,2))"
   ]
  },
  {
   "cell_type": "code",
   "execution_count": 508,
   "metadata": {},
   "outputs": [
    {
     "data": {
      "text/plain": [
       "array([9., 9., 9.])"
      ]
     },
     "execution_count": 508,
     "metadata": {},
     "output_type": "execute_result"
    }
   ],
   "source": [
    "ans3[0,0,0] = 8\n",
    "ans1[2]\n",
    "ans2[1]\n"
   ]
  },
  {
   "cell_type": "code",
   "execution_count": 511,
   "metadata": {},
   "outputs": [
    {
     "data": {
      "text/plain": [
       "93"
      ]
     },
     "execution_count": 511,
     "metadata": {},
     "output_type": "execute_result"
    }
   ],
   "source": [
    "np.sum(ans1)\n",
    "np.mean(ans2)\n",
    "np.max(ans3.ravel())"
   ]
  },
  {
   "cell_type": "markdown",
   "metadata": {},
   "source": [
    "Part 2: Advanced Manipulations\n",
    "Reshaping and Stacking:\n",
    "\n",
    "Reshape the 1D array into a 2D array with 5 rows.\n",
    "Stack the 1D array with itself vertically and horizontally.\n",
    "\n",
    "\n",
    "Slicing and Filtering:\n",
    "\n",
    "Create a 4x4 matrix with values from 1 to 16 and use slicing to extract the 2x2 bottom-right corner.\n",
    "From the 1D array, filter out and create an array containing only the even numbers.\n",
    "\n",
    "\n",
    "Mathematical Operations:\n",
    "\n",
    "Perform element-wise multiplication of the 2D and the reshaped 1D array.\n",
    "Find the dot product of the 2D array with its transpose."
   ]
  },
  {
   "cell_type": "code",
   "execution_count": 534,
   "metadata": {},
   "outputs": [
    {
     "data": {
      "text/plain": [
       "array([[ 1,  2,  3,  4,  5,  6,  7,  8,  9, 10],\n",
       "       [ 1,  2,  3,  4,  5,  6,  7,  8,  9, 10]])"
      ]
     },
     "execution_count": 534,
     "metadata": {},
     "output_type": "execute_result"
    }
   ],
   "source": [
    "ans1.reshape(5,2)\n",
    "np.stack((ans1,ans1))\n",
    "np.vstack((ans1,ans1))\n",
    "# np.hstack((ans1,ans1))"
   ]
  },
  {
   "cell_type": "code",
   "execution_count": 533,
   "metadata": {},
   "outputs": [
    {
     "data": {
      "text/plain": [
       "array([ 2,  4,  6,  8, 10])"
      ]
     },
     "execution_count": 533,
     "metadata": {},
     "output_type": "execute_result"
    }
   ],
   "source": [
    "ans4 = np.arange(1,17).reshape(4,4)\n",
    "ans4[-2:,-2:]\n",
    "ans1[ans1%2 ==0]"
   ]
  },
  {
   "cell_type": "code",
   "execution_count": 538,
   "metadata": {},
   "outputs": [],
   "source": [
    "_1 = np.vstack((ans1,ans1)).reshape(4,5)"
   ]
  },
  {
   "cell_type": "code",
   "execution_count": 539,
   "metadata": {},
   "outputs": [
    {
     "data": {
      "text/plain": [
       "array([[ 40,  50,  60,  70,  80],\n",
       "       [ 96, 122, 148, 174, 200],\n",
       "       [152, 194, 236, 278, 320],\n",
       "       [208, 266, 324, 382, 440]])"
      ]
     },
     "execution_count": 539,
     "metadata": {},
     "output_type": "execute_result"
    }
   ],
   "source": [
    "ans4@_1\n",
    "# ans1[ans1%2 ==0]"
   ]
  },
  {
   "cell_type": "code",
   "execution_count": 542,
   "metadata": {},
   "outputs": [
    {
     "data": {
      "text/plain": [
       "array([[ 30,  70, 110, 150],\n",
       "       [ 70, 174, 278, 382],\n",
       "       [110, 278, 446, 614],\n",
       "       [150, 382, 614, 846]])"
      ]
     },
     "execution_count": 542,
     "metadata": {},
     "output_type": "execute_result"
    }
   ],
   "source": [
    "np.dot(ans4,ans4.T)"
   ]
  },
  {
   "cell_type": "code",
   "execution_count": 543,
   "metadata": {},
   "outputs": [
    {
     "data": {
      "text/plain": [
       "array([[ 1,  2,  3,  4],\n",
       "       [ 5,  6,  7,  8],\n",
       "       [ 9, 10, 11, 12],\n",
       "       [13, 14, 15, 16]])"
      ]
     },
     "execution_count": 543,
     "metadata": {},
     "output_type": "execute_result"
    }
   ],
   "source": [
    "ans4"
   ]
  },
  {
   "cell_type": "markdown",
   "metadata": {},
   "source": [
    "Part 3: Application Scenario\n",
    "\n",
    "\n",
    "Data Analysis Simulation:\n",
    "\n",
    "\n",
    "Imagine you have data representing daily temperatures (in degrees Celsius) for a week stored in a 1D NumPy array. \n",
    "\n",
    "Create this array with any 7 temperatures of your choice.\n",
    "\n",
    "\n",
    "Convert the temperatures to Fahrenheit using the formula: \n",
    "F=C× 5/9 +32\n",
    "\n",
    "\n",
    "Calculate the mean temperature for the week in both Celsius and Fahrenheit.\n",
    "\n",
    "\n",
    "Identify the days (index) with temperatures above the mean temperature in Celsius.\n"
   ]
  },
  {
   "cell_type": "code",
   "execution_count": 553,
   "metadata": {},
   "outputs": [],
   "source": [
    "np.random.seed(100)\n",
    "temp_C = np.random.randint(-5,5,size = 7)"
   ]
  },
  {
   "cell_type": "code",
   "execution_count": 554,
   "metadata": {},
   "outputs": [
    {
     "data": {
      "text/plain": [
       "array([-3,  0, -3, -3, -3, -4, -5])"
      ]
     },
     "execution_count": 554,
     "metadata": {},
     "output_type": "execute_result"
    }
   ],
   "source": [
    "temp_C"
   ]
  },
  {
   "cell_type": "code",
   "execution_count": 555,
   "metadata": {},
   "outputs": [],
   "source": [
    "temp_F = temp_C*(5/9)+32"
   ]
  },
  {
   "cell_type": "code",
   "execution_count": 559,
   "metadata": {},
   "outputs": [],
   "source": [
    "mean_temp_F = np.mean(temp_F)\n",
    "mean_temp_c = np.mean(temp_C)"
   ]
  },
  {
   "cell_type": "code",
   "execution_count": 562,
   "metadata": {},
   "outputs": [
    {
     "data": {
      "text/plain": [
       "array([False,  True, False, False, False, False, False])"
      ]
     },
     "execution_count": 562,
     "metadata": {},
     "output_type": "execute_result"
    }
   ],
   "source": [
    "temp_C >mean_temp_c\n",
    "temp_F >mean_temp_F"
   ]
  },
  {
   "cell_type": "code",
   "execution_count": null,
   "metadata": {},
   "outputs": [],
   "source": []
  }
 ],
 "metadata": {
  "kernelspec": {
   "display_name": "mlsp2",
   "language": "python",
   "name": "python3"
  },
  "language_info": {
   "codemirror_mode": {
    "name": "ipython",
    "version": 3
   },
   "file_extension": ".py",
   "mimetype": "text/x-python",
   "name": "python",
   "nbconvert_exporter": "python",
   "pygments_lexer": "ipython3",
   "version": "3.9.18"
  }
 },
 "nbformat": 4,
 "nbformat_minor": 2
}
