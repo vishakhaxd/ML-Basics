{
 "cells": [
  {
   "cell_type": "code",
   "execution_count": 1,
   "metadata": {},
   "outputs": [],
   "source": [
    "import numpy as np\n",
    "import torch"
   ]
  },
  {
   "cell_type": "code",
   "execution_count": 2,
   "metadata": {},
   "outputs": [],
   "source": [
    "#f=2*x\n",
    "#f =w*x"
   ]
  },
  {
   "cell_type": "code",
   "execution_count": 4,
   "metadata": {},
   "outputs": [],
   "source": [
    "X = np.array([1,2,3,4], dtype=np.float32)\n",
    "Y= np.array([2,4,6,8], dtype=np.float32)\n",
    "w = 0.0"
   ]
  },
  {
   "cell_type": "code",
   "execution_count": 10,
   "metadata": {},
   "outputs": [],
   "source": [
    "def forward(x):\n",
    "    return w*x\n",
    "def loss(y,y_predicted):\n",
    "    return ((y-y_predicted)**2).mean()"
   ]
  },
  {
   "cell_type": "code",
   "execution_count": 6,
   "metadata": {},
   "outputs": [],
   "source": [
    "#MSE = 1/N(wx-y)^2\n",
    "#dJ/dw = 2x*1/N(wx-y)"
   ]
  },
  {
   "cell_type": "code",
   "execution_count": 7,
   "metadata": {},
   "outputs": [],
   "source": [
    "def gradient(x,y,y_predicted):\n",
    "    return np.dot(2*x,y_predicted-y).mean()"
   ]
  },
  {
   "cell_type": "code",
   "execution_count": 11,
   "metadata": {},
   "outputs": [
    {
     "data": {
      "text/plain": [
       "('Prediction before training, f(5)', 0.0)"
      ]
     },
     "execution_count": 11,
     "metadata": {},
     "output_type": "execute_result"
    }
   ],
   "source": [
    "\"Prediction before training, f(5)\" , forward(5) "
   ]
  },
  {
   "cell_type": "code",
   "execution_count": 13,
   "metadata": {},
   "outputs": [
    {
     "name": "stdout",
     "output_type": "stream",
     "text": [
      "epoch1:w = 1.200, loss = 30.00000000\n",
      "epoch2:w = 1.680, loss = 4.79999924\n",
      "epoch3:w = 1.872, loss = 0.76800019\n",
      "epoch4:w = 1.949, loss = 0.12288000\n",
      "epoch5:w = 1.980, loss = 0.01966083\n",
      "epoch6:w = 1.992, loss = 0.00314570\n",
      "epoch7:w = 1.997, loss = 0.00050332\n",
      "epoch8:w = 1.999, loss = 0.00008053\n",
      "epoch9:w = 1.999, loss = 0.00001288\n",
      "epoch10:w = 2.000, loss = 0.00000206\n"
     ]
    }
   ],
   "source": [
    "learning_rate = 0.01\n",
    "n_iters = 10\n",
    "for epoch in range(n_iters):\n",
    "    # prediction: forward pass\n",
    "    y_pred = forward(X)\n",
    "    l = loss(Y,y_pred)\n",
    "    dw = gradient(X,Y,y_pred)\n",
    "\n",
    "    #update w\n",
    "    w -= learning_rate*dw\n",
    "    if epoch % 1 == 0:\n",
    "        print(f'epoch{epoch+1}:w = {w:.3f}, loss = {l:.8f}')"
   ]
  },
  {
   "cell_type": "code",
   "execution_count": 14,
   "metadata": {},
   "outputs": [
    {
     "data": {
      "text/plain": [
       "('Prediction aft training, f(5)', 9.998951458930968)"
      ]
     },
     "execution_count": 14,
     "metadata": {},
     "output_type": "execute_result"
    }
   ],
   "source": [
    "\"Prediction aft training, f(5)\" , forward(5) "
   ]
  },
  {
   "cell_type": "code",
   "execution_count": 25,
   "metadata": {},
   "outputs": [],
   "source": [
    "X = torch.tensor([1,2,3,4], dtype=torch.float32)\n",
    "Y= torch.tensor([2,4,6,8], dtype=torch.float32)\n",
    "w = torch.tensor(0.0, requires_grad=True)\n",
    "def forward(x):\n",
    "    return w*x\n",
    "def loss(y,y_predicted):\n",
    "    return ((y-y_predicted)**2).mean()\n",
    "# def gradient(x,y,y_predicted):\n",
    "#     return np.dot(2*x,y_predicted-y).mean()"
   ]
  },
  {
   "cell_type": "code",
   "execution_count": 26,
   "metadata": {},
   "outputs": [
    {
     "name": "stdout",
     "output_type": "stream",
     "text": [
      "epoch1:w = 0.300, loss = 30.00000000\n",
      "epoch11:w = 1.665, loss = 1.16278565\n",
      "epoch21:w = 1.934, loss = 0.04506890\n",
      "epoch31:w = 1.987, loss = 0.00174685\n",
      "epoch41:w = 1.997, loss = 0.00006770\n",
      "epoch51:w = 1.999, loss = 0.00000262\n",
      "epoch61:w = 2.000, loss = 0.00000010\n",
      "epoch71:w = 2.000, loss = 0.00000000\n",
      "epoch81:w = 2.000, loss = 0.00000000\n",
      "epoch91:w = 2.000, loss = 0.00000000\n"
     ]
    }
   ],
   "source": [
    "learning_rate = 0.01\n",
    "n_iters = 100\n",
    "for epoch in range(n_iters):\n",
    "    # prediction: forward pass\n",
    "    y_pred = forward(X)\n",
    "    l = loss(Y,y_pred)\n",
    "    #gradients = backward pass\n",
    "    # dw = gradient(X,Y,y_pred)\n",
    "    l.backward()\n",
    "    #update w\n",
    "    with torch.no_grad():\n",
    "        w -= learning_rate*w.grad\n",
    "        # print(w.grad)\n",
    "    w.grad.zero_()\n",
    "    if epoch % 10 == 0:\n",
    "        print(f'epoch{epoch+1}:w = {w:.3f}, loss = {l:.8f}')"
   ]
  },
  {
   "cell_type": "code",
   "execution_count": 27,
   "metadata": {},
   "outputs": [
    {
     "name": "stdout",
     "output_type": "stream",
     "text": [
      "epoch1:w = 0.300, loss = 30.00000000\n",
      "epoch11:w = 1.665, loss = 1.16278565\n",
      "epoch21:w = 1.934, loss = 0.04506890\n",
      "epoch31:w = 1.987, loss = 0.00174685\n",
      "epoch41:w = 1.997, loss = 0.00006770\n",
      "epoch51:w = 1.999, loss = 0.00000262\n",
      "epoch61:w = 2.000, loss = 0.00000010\n",
      "epoch71:w = 2.000, loss = 0.00000000\n",
      "epoch81:w = 2.000, loss = 0.00000000\n",
      "epoch91:w = 2.000, loss = 0.00000000\n"
     ]
    }
   ],
   "source": [
    "\n",
    "X = torch.tensor([1,2,3,4], dtype=torch.float32)\n",
    "Y= torch.tensor([2,4,6,8], dtype=torch.float32)\n",
    "w = torch.tensor(0.0, requires_grad=True)\n",
    "\n",
    "def forward(x):\n",
    "    return w*x\n",
    "def loss(y,y_predicted):\n",
    "    return ((y-y_predicted)**2).mean()\n",
    "learning_rate = 0.01\n",
    "n_iters = 100\n",
    "for epoch in range(n_iters):\n",
    "    # prediction: forward pass\n",
    "    y_pred = forward(X)\n",
    "    l = loss(Y,y_pred)\n",
    "    #gradients = backward pass\n",
    "    # dw = gradient(X,Y,y_pred)\n",
    "    l.backward()\n",
    "\n",
    "    #update w\n",
    "    with torch.no_grad():\n",
    "        w -= learning_rate*w.grad\n",
    "        # print(w.grad)\n",
    "    w.grad.zero_()\n",
    "    if epoch % 10 == 0:\n",
    "        print(f'epoch{epoch+1}:w = {w:.3f}, loss = {l:.8f}')"
   ]
  },
  {
   "cell_type": "code",
   "execution_count": 28,
   "metadata": {},
   "outputs": [],
   "source": [
    "import torch.nn as nn"
   ]
  },
  {
   "cell_type": "code",
   "execution_count": 30,
   "metadata": {},
   "outputs": [],
   "source": [
    "X = torch.tensor([[1],[2],[3],[4]], dtype=torch.float32)\n",
    "Y= torch.tensor([[2],[4],[6],[8]], dtype=torch.float32)\n",
    "n_samples, n_features = X.shape\n",
    "# w = torch.tensor(0.0, requires_grad=True)\n"
   ]
  },
  {
   "cell_type": "code",
   "execution_count": 41,
   "metadata": {},
   "outputs": [],
   "source": [
    "X_test = torch.tensor([5],dtype=torch.float32)"
   ]
  },
  {
   "cell_type": "code",
   "execution_count": 50,
   "metadata": {},
   "outputs": [
    {
     "name": "stdout",
     "output_type": "stream",
     "text": [
      "Prediction bef training, f(5):tensor([4.8966], grad_fn=<ViewBackward0>)\n",
      "epoch1:w = Parameter containing:\n",
      "tensor([[0.8097]], requires_grad=True), loss = 6.195752143859863\n",
      "epoch11:w = Parameter containing:\n",
      "tensor([[0.9328]], requires_grad=True), loss = 4.489911079406738\n",
      "epoch21:w = Parameter containing:\n",
      "tensor([[1.0370]], requires_grad=True), loss = 3.271498680114746\n",
      "epoch31:w = Parameter containing:\n",
      "tensor([[1.1252]], requires_grad=True), loss = 2.4011244773864746\n",
      "epoch41:w = Parameter containing:\n",
      "tensor([[1.2000]], requires_grad=True), loss = 1.7792651653289795\n",
      "epoch51:w = Parameter containing:\n",
      "tensor([[1.2633]], requires_grad=True), loss = 1.3348537683486938\n",
      "epoch61:w = Parameter containing:\n",
      "tensor([[1.3170]], requires_grad=True), loss = 1.0171465873718262\n",
      "epoch71:w = Parameter containing:\n",
      "tensor([[1.3626]], requires_grad=True), loss = 0.7899114489555359\n",
      "epoch81:w = Parameter containing:\n",
      "tensor([[1.4013]], requires_grad=True), loss = 0.6272797584533691\n",
      "epoch91:w = Parameter containing:\n",
      "tensor([[1.4341]], requires_grad=True), loss = 0.5107793807983398\n"
     ]
    }
   ],
   "source": [
    "input_size = n_features\n",
    "output_size = n_features\n",
    "model = nn.Linear(input_size,output_size)\n",
    "\n",
    "\n",
    "# def forward(x):\n",
    "#     return w*x\n",
    "# def loss(y,y_predicted):\n",
    "#     return ((y-y_predicted)**2).mean()\n",
    "loss = nn.MSELoss()\n",
    "optimizer = torch.optim.SGD(model.parameters(),lr = learning_rate)\n",
    "\n",
    "learning_rate = 0.001\n",
    "n_iters = 100\n",
    "\n",
    "print(f\"Prediction bef training, f(5):{ model(X_test)}\") \n",
    "for epoch in range(n_iters):\n",
    "    # prediction: forward pass\n",
    "    y_pred = model(X)\n",
    "    l = loss(Y,y_pred)\n",
    "    #gradients = backward pass\n",
    "    # dw = gradient(X,Y,y_pred)\n",
    "    l.backward()\n",
    "\n",
    "    #update w\n",
    "    # with torch.no_grad():\n",
    "    #     w -= learning_rate*w.grad\n",
    "        # print(w.grad)\n",
    "    optimizer.step()\n",
    "    optimizer.zero_grad()\n",
    "    # w.grad.zero_()\n",
    "    if epoch % 10 == 0:\n",
    "        [w,b] = model.parameters()\n",
    "        print(f'epoch{epoch+1}:w = {w}, loss = {l}')"
   ]
  },
  {
   "cell_type": "code",
   "execution_count": 49,
   "metadata": {},
   "outputs": [
    {
     "data": {
      "text/plain": [
       "('Prediction aft training, f(5)', tensor([10.0658], grad_fn=<ViewBackward0>))"
      ]
     },
     "execution_count": 49,
     "metadata": {},
     "output_type": "execute_result"
    }
   ],
   "source": [
    "\"Prediction aft training, f(5)\" , model(X_test)"
   ]
  },
  {
   "cell_type": "code",
   "execution_count": 51,
   "metadata": {},
   "outputs": [
    {
     "name": "stdout",
     "output_type": "stream",
     "text": [
      "Prediction bef training, f(5):tensor([1.9818], grad_fn=<ViewBackward0>)\n",
      "epoch1:w = Parameter containing:\n",
      "tensor([[0.5710]], requires_grad=True), loss = 21.84415054321289\n",
      "epoch11:w = Parameter containing:\n",
      "tensor([[0.8041]], requires_grad=True), loss = 15.599699020385742\n",
      "epoch21:w = Parameter containing:\n",
      "tensor([[1.0010]], requires_grad=True), loss = 11.140969276428223\n",
      "epoch31:w = Parameter containing:\n",
      "tensor([[1.1674]], requires_grad=True), loss = 7.957293510437012\n",
      "epoch41:w = Parameter containing:\n",
      "tensor([[1.3079]], requires_grad=True), loss = 5.684046745300293\n",
      "epoch51:w = Parameter containing:\n",
      "tensor([[1.4267]], requires_grad=True), loss = 4.060870170593262\n",
      "epoch61:w = Parameter containing:\n",
      "tensor([[1.5270]], requires_grad=True), loss = 2.9018635749816895\n",
      "epoch71:w = Parameter containing:\n",
      "tensor([[1.6117]], requires_grad=True), loss = 2.0742859840393066\n",
      "epoch81:w = Parameter containing:\n",
      "tensor([[1.6832]], requires_grad=True), loss = 1.4833579063415527\n",
      "epoch91:w = Parameter containing:\n",
      "tensor([[1.7437]], requires_grad=True), loss = 1.0614066123962402\n"
     ]
    }
   ],
   "source": [
    "input_size = n_features\n",
    "output_size = n_features\n",
    "model = nn.Linear(input_size,output_size)\n",
    "class LinearRegression(nn.Module):\n",
    "    def __init__(self, input_dim, output_dim) -> None:\n",
    "        super(LinearRegression,self).__init__()\n",
    "        # define layers\n",
    "        self.lin = nn.Linear(input_dim, output_dim)\n",
    "    def forward(self,x):\n",
    "        return self.lin(x)\n",
    "model = LinearRegression(input_size,output_size)\n",
    "\n",
    "# def forward(x):\n",
    "#     return w*x\n",
    "# def loss(y,y_predicted):\n",
    "#     return ((y-y_predicted)**2).mean()\n",
    "loss = nn.MSELoss()\n",
    "optimizer = torch.optim.SGD(model.parameters(),lr = learning_rate)\n",
    "\n",
    "learning_rate = 0.001\n",
    "n_iters = 100\n",
    "\n",
    "print(f\"Prediction bef training, f(5):{ model(X_test)}\") \n",
    "for epoch in range(n_iters):\n",
    "    # prediction: forward pass\n",
    "    y_pred = model(X)\n",
    "    l = loss(Y,y_pred)\n",
    "    #gradients = backward pass\n",
    "    # dw = gradient(X,Y,y_pred)\n",
    "    l.backward()\n",
    "\n",
    "    #update w\n",
    "    # with torch.no_grad():\n",
    "    #     w -= learning_rate*w.grad\n",
    "        # print(w.grad)\n",
    "    optimizer.step()\n",
    "    optimizer.zero_grad()\n",
    "    # w.grad.zero_()\n",
    "    if epoch % 10 == 0:\n",
    "        [w,b] = model.parameters()\n",
    "        print(f'epoch{epoch+1}:w = {w}, loss = {l}')"
   ]
  },
  {
   "cell_type": "code",
   "execution_count": null,
   "metadata": {},
   "outputs": [],
   "source": []
  }
 ],
 "metadata": {
  "kernelspec": {
   "display_name": "deep",
   "language": "python",
   "name": "python3"
  },
  "language_info": {
   "codemirror_mode": {
    "name": "ipython",
    "version": 3
   },
   "file_extension": ".py",
   "mimetype": "text/x-python",
   "name": "python",
   "nbconvert_exporter": "python",
   "pygments_lexer": "ipython3",
   "version": "3.11.5"
  }
 },
 "nbformat": 4,
 "nbformat_minor": 2
}
