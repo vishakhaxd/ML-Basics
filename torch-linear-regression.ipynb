{
 "cells": [
  {
   "cell_type": "code",
   "execution_count": 3,
   "metadata": {},
   "outputs": [],
   "source": [
    "import torch\n",
    "import torch.nn as nn\n",
    "import numpy as np\n",
    "from sklearn import  datasets\n",
    "import matplotlib.pyplot as plt\n",
    "%matplotlib inline"
   ]
  },
  {
   "cell_type": "markdown",
   "metadata": {},
   "source": [
    "1) model\n",
    "\n",
    "2. loss and optimizer\n",
    "\n",
    "3.  training loop"
   ]
  },
  {
   "cell_type": "code",
   "execution_count": 55,
   "metadata": {},
   "outputs": [],
   "source": [
    "_X,_Y  = datasets.make_regression(n_samples=100, n_features=1,noise=20, random_state=1)\n",
    "#numpy array"
   ]
  },
  {
   "cell_type": "code",
   "execution_count": 56,
   "metadata": {},
   "outputs": [],
   "source": [
    "X = torch.from_numpy(_X.astype(np.float32))\n",
    "y = torch.from_numpy(_Y.astype(np.float32))\n",
    "y = y.view(-1,1)"
   ]
  },
  {
   "cell_type": "code",
   "execution_count": 57,
   "metadata": {},
   "outputs": [],
   "source": [
    "# z = y.view(y.shape[0],1)\n",
    "n_samples, n_features = X.shape\n",
    "input_size = n_features\n",
    "output_size = 1"
   ]
  },
  {
   "cell_type": "code",
   "execution_count": 58,
   "metadata": {},
   "outputs": [],
   "source": [
    "model = nn.Linear(input_size,output_size)"
   ]
  },
  {
   "cell_type": "code",
   "execution_count": 59,
   "metadata": {},
   "outputs": [],
   "source": [
    "learning_rate = 0.01\n",
    "criterion = nn.MSELoss()\n",
    "optimizer = torch.optim.SGD(model.parameters(), lr=learning_rate)"
   ]
  },
  {
   "cell_type": "markdown",
   "metadata": {},
   "source": [
    "training loop\n",
    "\n",
    "1. forward pass: compute predictin and loss\n",
    "\n",
    "2. backward pass: gradients\n",
    "\n",
    "3. update weights"
   ]
  },
  {
   "cell_type": "code",
   "execution_count": 60,
   "metadata": {},
   "outputs": [
    {
     "name": "stdout",
     "output_type": "stream",
     "text": [
      "epoch: 1, loss: 5728.5986328125\n",
      "epoch: 11, loss: 4244.94091796875\n",
      "epoch: 21, loss: 3171.811279296875\n",
      "epoch: 31, loss: 2394.769287109375\n",
      "epoch: 41, loss: 1831.5509033203125\n",
      "epoch: 51, loss: 1422.934326171875\n",
      "epoch: 61, loss: 1126.2259521484375\n",
      "epoch: 71, loss: 910.605224609375\n",
      "epoch: 81, loss: 753.796142578125\n",
      "epoch: 91, loss: 639.6814575195312\n",
      "epoch: 101, loss: 556.584716796875\n",
      "epoch: 111, loss: 496.04046630859375\n",
      "epoch: 121, loss: 451.9054260253906\n",
      "epoch: 131, loss: 419.7166748046875\n",
      "epoch: 141, loss: 396.2303161621094\n",
      "epoch: 151, loss: 379.08721923828125\n",
      "epoch: 161, loss: 366.5693054199219\n",
      "epoch: 171, loss: 357.4259033203125\n",
      "epoch: 181, loss: 350.7452087402344\n",
      "epoch: 191, loss: 345.8626708984375\n",
      "epoch: 201, loss: 342.29327392578125\n",
      "epoch: 211, loss: 339.6833190917969\n",
      "epoch: 221, loss: 337.7745666503906\n",
      "epoch: 231, loss: 336.37835693359375\n",
      "epoch: 241, loss: 335.35687255859375\n",
      "epoch: 251, loss: 334.6094055175781\n",
      "epoch: 261, loss: 334.0624084472656\n",
      "epoch: 271, loss: 333.6620178222656\n",
      "epoch: 281, loss: 333.36895751953125\n",
      "epoch: 291, loss: 333.1544494628906\n",
      "epoch: 301, loss: 332.997314453125\n",
      "epoch: 311, loss: 332.8822937011719\n",
      "epoch: 321, loss: 332.798095703125\n",
      "epoch: 331, loss: 332.7364501953125\n",
      "epoch: 341, loss: 332.6912536621094\n",
      "epoch: 351, loss: 332.6581115722656\n",
      "epoch: 361, loss: 332.6339416503906\n",
      "epoch: 371, loss: 332.6162109375\n",
      "epoch: 381, loss: 332.60321044921875\n",
      "epoch: 391, loss: 332.5936584472656\n"
     ]
    }
   ],
   "source": [
    "num_epochs = 400\n",
    "for epoch in range(num_epochs):\n",
    "    #forward pass\n",
    "    y_pred = model(X)\n",
    "    loss = criterion(y_pred,y)\n",
    "    #backward pass\n",
    "    loss.backward()\n",
    "    #update\n",
    "    optimizer.step()\n",
    "    optimizer.zero_grad()\n",
    "    if not epoch%10:\n",
    "        print(f\"epoch: {epoch+1}, loss: {loss.item()}\")"
   ]
  },
  {
   "cell_type": "code",
   "execution_count": 63,
   "metadata": {},
   "outputs": [
    {
     "data": {
      "text/plain": [
       "[<matplotlib.lines.Line2D at 0x16e341250>]"
      ]
     },
     "execution_count": 63,
     "metadata": {},
     "output_type": "execute_result"
    },
    {
     "data": {
      "image/png": "[encoded data removed]",
      "text/plain": [
       "<Figure size 640x480 with 1 Axes>"
      ]
     },
     "metadata": {},
     "output_type": "display_data"
    }
   ],
   "source": [
    "predicted = model(X).detach().numpy()\n",
    "plt.plot(_X,_Y,'ro')\n",
    "plt.plot(_X, predicted,'b')"
   ]
  }
 ],
 "metadata": {
  "kernelspec": {
   "display_name": "deep",
   "language": "python",
   "name": "python3"
  },
  "language_info": {
   "codemirror_mode": {
    "name": "ipython",
    "version": 3
   },
   "file_extension": ".py",
   "mimetype": "text/x-python",
   "name": "python",
   "nbconvert_exporter": "python",
   "pygments_lexer": "ipython3",
   "version": "3.11.5"
  }
 },
 "nbformat": 4,
 "nbformat_minor": 2
}
