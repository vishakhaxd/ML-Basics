{
 "cells": [
  {
   "cell_type": "markdown",
   "source": [
    "## Reference: https://www.learnpytorch.io"
   ],
   "metadata": {
    "collapsed": false
   },
   "id": "3951668da5b5e97a"
  },
  {
   "cell_type": "code",
   "execution_count": 6,
   "id": "initial_id",
   "metadata": {
    "collapsed": true,
    "ExecuteTime": {
     "end_time": "2024-11-24T19:17:31.315861Z",
     "start_time": "2024-11-24T19:17:31.073805Z"
    }
   },
   "outputs": [],
   "source": [
    "import torch\n",
    "import numpy as np\n",
    "import matplotlib.pyplot as plt\n"
   ]
  },
  {
   "cell_type": "markdown",
   "source": [
    "Tensors only have a single datatype like numpy\n",
    "default is float 32"
   ],
   "metadata": {
    "collapsed": false
   },
   "id": "4883065cdae8318c"
  },
  {
   "cell_type": "code",
   "outputs": [],
   "source": [
    "# !pip list\n"
   ],
   "metadata": {
    "collapsed": false,
    "ExecuteTime": {
     "end_time": "2024-11-24T19:07:22.139053Z",
     "start_time": "2024-11-24T19:07:22.136650Z"
    }
   },
   "id": "95538f4591be1e6a",
   "execution_count": 3
  },
  {
   "cell_type": "code",
   "outputs": [],
   "source": [
    "l = [[1,2,3,4,5],[6,7,8,9,10],[11,12]]\n"
   ],
   "metadata": {
    "collapsed": false,
    "ExecuteTime": {
     "end_time": "2024-11-24T19:16:06.807488Z",
     "start_time": "2024-11-24T19:16:06.802629Z"
    }
   },
   "id": "b4e71b20d447441f",
   "execution_count": 4
  },
  {
   "cell_type": "code",
   "outputs": [],
   "source": [],
   "metadata": {
    "collapsed": false
   },
   "id": "57d862f1c20b2793"
  },
  {
   "cell_type": "code",
   "outputs": [],
   "source": [
    "np_a = np.random.randint(-1,100,size=(3,4))"
   ],
   "metadata": {
    "collapsed": false,
    "ExecuteTime": {
     "end_time": "2024-11-24T19:19:22.965136Z",
     "start_time": "2024-11-24T19:19:22.963123Z"
    }
   },
   "id": "600e46acb3273035",
   "execution_count": 12
  },
  {
   "cell_type": "code",
   "outputs": [
    {
     "data": {
      "text/plain": "array([[36, 93, -1,  8],\n       [14, 73, 47,  2],\n       [48, 15, 80,  4]])"
     },
     "execution_count": 13,
     "metadata": {},
     "output_type": "execute_result"
    }
   ],
   "source": [
    "np_a"
   ],
   "metadata": {
    "collapsed": false,
    "ExecuteTime": {
     "end_time": "2024-11-24T19:19:24.169685Z",
     "start_time": "2024-11-24T19:19:24.166164Z"
    }
   },
   "id": "1345be8ad0a92981",
   "execution_count": 13
  },
  {
   "cell_type": "code",
   "outputs": [],
   "source": [
    "tensor = torch.randint(-1,100,(3,4))"
   ],
   "metadata": {
    "collapsed": false,
    "ExecuteTime": {
     "end_time": "2024-11-24T19:20:39.314419Z",
     "start_time": "2024-11-24T19:20:39.310405Z"
    }
   },
   "id": "89d579be2e0b9da0",
   "execution_count": 16
  },
  {
   "cell_type": "code",
   "outputs": [],
   "source": [
    "tensor_2 = torch.zeros((2,2,2))"
   ],
   "metadata": {
    "collapsed": false,
    "ExecuteTime": {
     "end_time": "2024-11-24T19:21:18.182733Z",
     "start_time": "2024-11-24T19:21:18.178225Z"
    }
   },
   "id": "43d6924aa17f0f9",
   "execution_count": 17
  },
  {
   "cell_type": "code",
   "outputs": [
    {
     "data": {
      "text/plain": "tensor([[[0., 0.],\n         [0., 0.]],\n\n        [[0., 0.],\n         [0., 0.]]])"
     },
     "execution_count": 18,
     "metadata": {},
     "output_type": "execute_result"
    }
   ],
   "source": [
    "tensor_2"
   ],
   "metadata": {
    "collapsed": false,
    "ExecuteTime": {
     "end_time": "2024-11-24T19:21:22.451445Z",
     "start_time": "2024-11-24T19:21:22.447088Z"
    }
   },
   "id": "ad862d72b4b6f42b",
   "execution_count": 18
  },
  {
   "cell_type": "code",
   "outputs": [],
   "source": [
    "tensor_from_np = torch.from_numpy(np_a)"
   ],
   "metadata": {
    "collapsed": false,
    "ExecuteTime": {
     "end_time": "2024-11-24T19:21:49.487672Z",
     "start_time": "2024-11-24T19:21:49.484649Z"
    }
   },
   "id": "19040333adffd6ef",
   "execution_count": 19
  },
  {
   "cell_type": "code",
   "outputs": [
    {
     "data": {
      "text/plain": "tensor([[36, 93, -1,  8],\n        [14, 73, 47,  2],\n        [48, 15, 80,  4]])"
     },
     "execution_count": 20,
     "metadata": {},
     "output_type": "execute_result"
    }
   ],
   "source": [
    "tensor_from_np"
   ],
   "metadata": {
    "collapsed": false,
    "ExecuteTime": {
     "end_time": "2024-11-24T19:21:56.458883Z",
     "start_time": "2024-11-24T19:21:56.455571Z"
    }
   },
   "id": "252fca1abe53e014",
   "execution_count": 20
  },
  {
   "cell_type": "code",
   "outputs": [
    {
     "data": {
      "text/plain": "torch.int64"
     },
     "execution_count": 21,
     "metadata": {},
     "output_type": "execute_result"
    }
   ],
   "source": [
    "tensor_from_np.dtype"
   ],
   "metadata": {
    "collapsed": false,
    "ExecuteTime": {
     "end_time": "2024-11-24T19:22:10.058350Z",
     "start_time": "2024-11-24T19:22:10.055529Z"
    }
   },
   "id": "1f625fa653727e2e",
   "execution_count": 21
  },
  {
   "cell_type": "code",
   "outputs": [],
   "source": [
    "tensor_from_np2 = torch.tensor(np_a)"
   ],
   "metadata": {
    "collapsed": false,
    "ExecuteTime": {
     "end_time": "2024-11-24T19:22:54.357973Z",
     "start_time": "2024-11-24T19:22:54.354098Z"
    }
   },
   "id": "86634aa7615dd56b",
   "execution_count": 22
  },
  {
   "cell_type": "code",
   "outputs": [
    {
     "data": {
      "text/plain": "tensor([[36, 93, -1,  8],\n        [14, 73, 47,  2],\n        [48, 15, 80,  4]])"
     },
     "execution_count": 23,
     "metadata": {},
     "output_type": "execute_result"
    }
   ],
   "source": [
    "tensor_from_np2"
   ],
   "metadata": {
    "collapsed": false,
    "ExecuteTime": {
     "end_time": "2024-11-24T19:22:59.119229Z",
     "start_time": "2024-11-24T19:22:59.116476Z"
    }
   },
   "id": "adcb36d08bddd151",
   "execution_count": 23
  },
  {
   "cell_type": "code",
   "outputs": [],
   "source": [
    "t1 = torch.arange(10)"
   ],
   "metadata": {
    "collapsed": false,
    "ExecuteTime": {
     "end_time": "2024-11-24T19:26:22.222367Z",
     "start_time": "2024-11-24T19:26:22.218039Z"
    }
   },
   "id": "4d3ea2fedab0bf8f",
   "execution_count": 24
  },
  {
   "cell_type": "markdown",
   "source": [
    "Reshape and View -basically the same"
   ],
   "metadata": {
    "collapsed": false
   },
   "id": "c759724ed144e9f3"
  },
  {
   "cell_type": "code",
   "outputs": [],
   "source": [
    "t1 = t1.reshape(2,5)"
   ],
   "metadata": {
    "collapsed": false,
    "ExecuteTime": {
     "end_time": "2024-11-24T19:27:30.858435Z",
     "start_time": "2024-11-24T19:27:30.855189Z"
    }
   },
   "id": "5d40a9e1920d1327",
   "execution_count": 26
  },
  {
   "cell_type": "code",
   "outputs": [],
   "source": [
    "t2 = torch.arange(12)"
   ],
   "metadata": {
    "collapsed": false,
    "ExecuteTime": {
     "end_time": "2024-11-24T19:28:28.797476Z",
     "start_time": "2024-11-24T19:28:28.795118Z"
    }
   },
   "id": "d989c864d8088d4",
   "execution_count": 27
  },
  {
   "cell_type": "code",
   "outputs": [],
   "source": [
    "t2 = t2.reshape(3,-1)"
   ],
   "metadata": {
    "collapsed": false,
    "ExecuteTime": {
     "end_time": "2024-11-24T19:28:53.993701Z",
     "start_time": "2024-11-24T19:28:53.991775Z"
    }
   },
   "id": "604dc2f13d97c0aa",
   "execution_count": 28
  },
  {
   "cell_type": "code",
   "outputs": [
    {
     "data": {
      "text/plain": "tensor([[ 0,  1,  2,  3],\n        [ 4,  5,  6,  7],\n        [ 8,  9, 10, 11]])"
     },
     "execution_count": 29,
     "metadata": {},
     "output_type": "execute_result"
    }
   ],
   "source": [
    "t2"
   ],
   "metadata": {
    "collapsed": false,
    "ExecuteTime": {
     "end_time": "2024-11-24T19:28:57.574621Z",
     "start_time": "2024-11-24T19:28:57.571521Z"
    }
   },
   "id": "a880524857a0c72f",
   "execution_count": 29
  },
  {
   "cell_type": "code",
   "outputs": [],
   "source": [
    "t3 = torch.arange(12)"
   ],
   "metadata": {
    "collapsed": false,
    "ExecuteTime": {
     "end_time": "2024-11-24T19:31:05.879293Z",
     "start_time": "2024-11-24T19:31:05.876780Z"
    }
   },
   "id": "b409285dca136b7a",
   "execution_count": 30
  },
  {
   "cell_type": "code",
   "outputs": [],
   "source": [
    "t3=t3.view(-1,4)"
   ],
   "metadata": {
    "collapsed": false,
    "ExecuteTime": {
     "end_time": "2024-11-24T19:31:25.225469Z",
     "start_time": "2024-11-24T19:31:25.221834Z"
    }
   },
   "id": "541a83313d494267",
   "execution_count": 31
  },
  {
   "cell_type": "code",
   "outputs": [
    {
     "data": {
      "text/plain": "tensor([[ 0,  1,  2,  3],\n        [ 4,  5,  6,  7],\n        [ 8,  9, 10, 11]])"
     },
     "execution_count": 32,
     "metadata": {},
     "output_type": "execute_result"
    }
   ],
   "source": [
    "t3"
   ],
   "metadata": {
    "collapsed": false,
    "ExecuteTime": {
     "end_time": "2024-11-24T19:31:28.814069Z",
     "start_time": "2024-11-24T19:31:28.811052Z"
    }
   },
   "id": "6e7e79c6f7e0223",
   "execution_count": 32
  },
  {
   "cell_type": "markdown",
   "source": [
    "Reshape takes reference so if original tensor changes the reshaped tensor changes too"
   ],
   "metadata": {
    "collapsed": false
   },
   "id": "64ecb0d14a59980"
  },
  {
   "cell_type": "code",
   "outputs": [],
   "source": [
    "t4 = torch.zeros(12)"
   ],
   "metadata": {
    "collapsed": false,
    "ExecuteTime": {
     "end_time": "2024-11-24T19:35:15.106340Z",
     "start_time": "2024-11-24T19:35:15.103669Z"
    }
   },
   "id": "91428a786a0b767d",
   "execution_count": 34
  },
  {
   "cell_type": "code",
   "outputs": [
    {
     "data": {
      "text/plain": "tensor([0., 0., 0., 0., 0., 0., 0., 0., 0., 0., 0., 0.])"
     },
     "execution_count": 35,
     "metadata": {},
     "output_type": "execute_result"
    }
   ],
   "source": [
    "t4"
   ],
   "metadata": {
    "collapsed": false,
    "ExecuteTime": {
     "end_time": "2024-11-24T19:35:17.930684Z",
     "start_time": "2024-11-24T19:35:17.927509Z"
    }
   },
   "id": "4db949b6f18aa182",
   "execution_count": 35
  },
  {
   "cell_type": "code",
   "outputs": [],
   "source": [
    "t5 = t4.reshape(4,-1)"
   ],
   "metadata": {
    "collapsed": false,
    "ExecuteTime": {
     "end_time": "2024-11-24T19:35:40.000190Z",
     "start_time": "2024-11-24T19:35:39.997928Z"
    }
   },
   "id": "1f3ce0ee86f9939d",
   "execution_count": 36
  },
  {
   "cell_type": "code",
   "outputs": [],
   "source": [
    "t4[1] = 100"
   ],
   "metadata": {
    "collapsed": false,
    "ExecuteTime": {
     "end_time": "2024-11-24T19:35:49.222376Z",
     "start_time": "2024-11-24T19:35:49.220004Z"
    }
   },
   "id": "5f64edd77f73bed5",
   "execution_count": 37
  },
  {
   "cell_type": "code",
   "outputs": [
    {
     "data": {
      "text/plain": "tensor([  0., 100.,   0.,   0.,   0.,   0.,   0.,   0.,   0.,   0.,   0.,   0.])"
     },
     "execution_count": 38,
     "metadata": {},
     "output_type": "execute_result"
    }
   ],
   "source": [
    "t4"
   ],
   "metadata": {
    "collapsed": false,
    "ExecuteTime": {
     "end_time": "2024-11-24T19:35:51.930390Z",
     "start_time": "2024-11-24T19:35:51.927114Z"
    }
   },
   "id": "2c92ca3cce8fcb6",
   "execution_count": 38
  },
  {
   "cell_type": "code",
   "outputs": [
    {
     "data": {
      "text/plain": "tensor([[  0., 100.,   0.],\n        [  0.,   0.,   0.],\n        [  0.,   0.,   0.],\n        [  0.,   0.,   0.]])"
     },
     "execution_count": 39,
     "metadata": {},
     "output_type": "execute_result"
    }
   ],
   "source": [
    "t5"
   ],
   "metadata": {
    "collapsed": false,
    "ExecuteTime": {
     "end_time": "2024-11-24T19:35:54.632783Z",
     "start_time": "2024-11-24T19:35:54.629884Z"
    }
   },
   "id": "772d010434a19aa3",
   "execution_count": 39
  },
  {
   "cell_type": "markdown",
   "source": [
    "Slicing"
   ],
   "metadata": {
    "collapsed": false
   },
   "id": "5fe06a777c8c15fe"
  },
  {
   "cell_type": "code",
   "outputs": [
    {
     "data": {
      "text/plain": "tensor([100.,   0.,   0.,   0.])"
     },
     "execution_count": 40,
     "metadata": {},
     "output_type": "execute_result"
    }
   ],
   "source": [
    "t5[:,1]"
   ],
   "metadata": {
    "collapsed": false,
    "ExecuteTime": {
     "end_time": "2024-11-24T19:39:25.987212Z",
     "start_time": "2024-11-24T19:39:25.978106Z"
    }
   },
   "id": "89722ccb5060f287",
   "execution_count": 40
  },
  {
   "cell_type": "code",
   "outputs": [
    {
     "data": {
      "text/plain": "tensor([[100.],\n        [  0.],\n        [  0.],\n        [  0.]])"
     },
     "execution_count": 43,
     "metadata": {},
     "output_type": "execute_result"
    }
   ],
   "source": [
    "t5[:,1:2]"
   ],
   "metadata": {
    "collapsed": false,
    "ExecuteTime": {
     "end_time": "2024-11-24T19:40:25.343014Z",
     "start_time": "2024-11-24T19:40:25.340139Z"
    }
   },
   "id": "33d32e8a0ccad797",
   "execution_count": 43
  },
  {
   "cell_type": "markdown",
   "source": [
    "https://pytorch.org/docs/stable/generated/torch.rand.html"
   ],
   "metadata": {
    "collapsed": false
   },
   "id": "5982f59914d3ee3a"
  },
  {
   "cell_type": "code",
   "outputs": [],
   "source": [
    "t6 = torch.rand(10,10,10)"
   ],
   "metadata": {
    "collapsed": false,
    "ExecuteTime": {
     "end_time": "2024-11-24T20:01:45.882994Z",
     "start_time": "2024-11-24T20:01:45.877684Z"
    }
   },
   "id": "97403bc5cd33e7dc",
   "execution_count": 44
  },
  {
   "cell_type": "code",
   "outputs": [
    {
     "data": {
      "text/plain": "tensor([[[0.7709, 0.3053, 0.9657, 0.4937, 0.7668, 0.4597, 0.7529, 0.6220,\n          0.7480, 0.8897],\n         [0.6122, 0.9804, 0.7047, 0.7644, 0.8618, 0.3993, 0.1745, 0.1752,\n          0.5059, 0.8340],\n         [0.6967, 0.1039, 0.0260, 0.4729, 0.1983, 0.8412, 0.5885, 0.6537,\n          0.9087, 0.9763],\n         [0.3663, 0.8816, 0.6170, 0.8943, 0.0633, 0.0214, 0.3516, 0.5609,\n          0.1436, 0.1163],\n         [0.7446, 0.3386, 0.3790, 0.8275, 0.8701, 0.8670, 0.6720, 0.4878,\n          0.9742, 0.4543],\n         [0.8943, 0.9418, 0.2255, 0.3442, 0.9044, 0.5692, 0.3312, 0.2842,\n          0.1079, 0.0383],\n         [0.5819, 0.9082, 0.8470, 0.4228, 0.0970, 0.6812, 0.6711, 0.4812,\n          0.6950, 0.2941],\n         [0.1856, 0.6386, 0.2075, 0.2989, 0.6916, 0.9859, 0.7057, 0.5176,\n          0.4783, 0.5505],\n         [0.1407, 0.1669, 0.7549, 0.0617, 0.7538, 0.1182, 0.0256, 0.8322,\n          0.0987, 0.3002],\n         [0.8268, 0.1345, 0.8223, 0.3104, 0.9211, 0.9436, 0.1400, 0.0080,\n          0.7191, 0.7978]],\n\n        [[0.9125, 0.4170, 0.6845, 0.3795, 0.3898, 0.2485, 0.1173, 0.8066,\n          0.1749, 0.5327],\n         [0.4896, 0.2447, 0.4122, 0.4222, 0.0620, 0.9602, 0.7442, 0.7500,\n          0.8884, 0.5242],\n         [0.0800, 0.7769, 0.1137, 0.1483, 0.7137, 0.8937, 0.8895, 0.1755,\n          0.3496, 0.4580],\n         [0.1412, 0.6541, 0.8610, 0.3030, 0.1240, 0.4773, 0.6428, 0.4364,\n          0.3750, 0.8191],\n         [0.8366, 0.5728, 0.2305, 0.7721, 0.2938, 0.6418, 0.6529, 0.3313,\n          0.3152, 0.6287],\n         [0.5691, 0.4053, 0.4242, 0.7096, 0.5603, 0.4621, 0.2852, 0.8169,\n          0.5097, 0.7393],\n         [0.0573, 0.4891, 0.8028, 0.5393, 0.9540, 0.2484, 0.8973, 0.3781,\n          0.1582, 0.5653],\n         [0.4137, 0.2545, 0.9204, 0.9890, 0.9412, 0.2567, 0.8577, 0.7493,\n          0.2394, 0.5010],\n         [0.2872, 0.4296, 0.2614, 0.3877, 0.1214, 0.1040, 0.2791, 0.3132,\n          0.6527, 0.1823],\n         [0.6606, 0.6658, 0.0845, 0.9435, 0.2087, 0.2530, 0.0280, 0.2373,\n          0.7892, 0.6211]],\n\n        [[0.9633, 0.8409, 0.5804, 0.0464, 0.4258, 0.3546, 0.7417, 0.2127,\n          0.5932, 0.6921],\n         [0.4618, 0.8598, 0.7514, 0.4957, 0.2059, 0.7142, 0.7437, 0.2373,\n          0.1052, 0.1926],\n         [0.4159, 0.3501, 0.6361, 0.2000, 0.4933, 0.0614, 0.8778, 0.7863,\n          0.6726, 0.5053],\n         [0.3366, 0.1053, 0.6867, 0.3993, 0.7979, 0.0565, 0.4585, 0.2825,\n          0.6805, 0.3641],\n         [0.0443, 0.0346, 0.9654, 0.2713, 0.7228, 0.5680, 0.3192, 0.3679,\n          0.4998, 0.2978],\n         [0.5117, 0.7539, 0.5651, 0.7466, 0.1079, 0.5188, 0.8997, 0.4563,\n          0.4035, 0.9748],\n         [0.9320, 0.3428, 0.3194, 0.4948, 0.5802, 0.5357, 0.7624, 0.7183,\n          0.0518, 0.6858],\n         [0.7852, 0.6549, 0.1385, 0.0471, 0.3324, 0.0774, 0.1592, 0.9383,\n          0.2365, 0.8413],\n         [0.7816, 0.4693, 0.2980, 0.2051, 0.0260, 0.3521, 0.3608, 0.3673,\n          0.5263, 0.6718],\n         [0.1461, 0.8107, 0.4238, 0.2726, 0.6149, 0.9715, 0.9048, 0.9549,\n          0.2699, 0.7359]],\n\n        [[0.1035, 0.9023, 0.3315, 0.3013, 0.0692, 0.7096, 0.6112, 0.8535,\n          0.4346, 0.9135],\n         [0.3722, 0.4357, 0.4398, 0.5268, 0.1474, 0.9449, 0.0535, 0.8833,\n          0.6693, 0.1279],\n         [0.2648, 0.8815, 0.3154, 0.3447, 0.1182, 0.2091, 0.5152, 0.4493,\n          0.7951, 0.8691],\n         [0.7011, 0.8935, 0.7475, 0.5519, 0.0917, 0.2855, 0.4226, 0.0289,\n          0.7833, 0.8484],\n         [0.7194, 0.8415, 0.7643, 0.5339, 0.8854, 0.5847, 0.8102, 0.0605,\n          0.6398, 0.9721],\n         [0.9728, 0.2324, 0.3856, 0.1053, 0.7092, 0.0684, 0.4961, 0.0310,\n          0.7362, 0.0718],\n         [0.0316, 0.7551, 0.0809, 0.5855, 0.6931, 0.0359, 0.9841, 0.6058,\n          0.7082, 0.8824],\n         [0.5666, 0.6137, 0.1874, 0.2770, 0.6616, 0.8010, 0.3291, 0.1413,\n          0.2051, 0.5294],\n         [0.8684, 0.8956, 0.3294, 0.3737, 0.5110, 0.2143, 0.7815, 0.8390,\n          0.7376, 0.3455],\n         [0.1780, 0.3595, 0.1505, 0.5184, 0.2390, 0.0318, 0.3087, 0.6381,\n          0.8522, 0.3468]],\n\n        [[0.2807, 0.8220, 0.3473, 0.8292, 0.0959, 0.0829, 0.4941, 0.0262,\n          0.5890, 0.5763],\n         [0.9468, 0.2244, 0.6787, 0.3372, 0.1968, 0.9293, 0.7952, 0.0727,\n          0.4663, 0.9001],\n         [0.6801, 0.0141, 0.3575, 0.9080, 0.3885, 0.3985, 0.8744, 0.8785,\n          0.5137, 0.4012],\n         [0.1554, 0.4743, 0.2072, 0.8226, 0.4257, 0.9707, 0.9175, 0.4383,\n          0.9581, 0.3874],\n         [0.0066, 0.5841, 0.2770, 0.3657, 0.8098, 0.6167, 0.1546, 0.9019,\n          0.7366, 0.7403],\n         [0.4313, 0.4514, 0.2580, 0.7828, 0.3668, 0.2797, 0.0533, 0.3958,\n          0.5298, 0.8888],\n         [0.1387, 0.1357, 0.6760, 0.7789, 0.2908, 0.3092, 0.8064, 0.3119,\n          0.4109, 0.6525],\n         [0.0581, 0.2249, 0.7196, 0.0560, 0.3801, 0.1853, 0.7329, 0.5702,\n          0.9609, 0.5762],\n         [0.8495, 0.2117, 0.9670, 0.5537, 0.4852, 0.5213, 0.3515, 0.5728,\n          0.6525, 0.3029],\n         [0.4710, 0.4769, 0.1020, 0.5856, 0.0115, 0.6837, 0.2916, 0.8363,\n          0.9340, 0.8361]],\n\n        [[0.1484, 0.1245, 0.3932, 0.3122, 0.0944, 0.7299, 0.1192, 0.4981,\n          0.3742, 0.8894],\n         [0.8274, 0.8975, 0.5719, 0.6513, 0.7797, 0.8729, 0.2961, 0.1397,\n          0.4590, 0.3343],\n         [0.5133, 0.0675, 0.3547, 0.2199, 0.4983, 0.3540, 0.2005, 0.1361,\n          0.1489, 0.3574],\n         [0.7713, 0.8361, 0.3533, 0.1823, 0.6410, 0.1631, 0.8658, 0.5318,\n          0.6067, 0.9435],\n         [0.3268, 0.5599, 0.0956, 0.6465, 0.4318, 0.7893, 0.0349, 0.4646,\n          0.3525, 0.1091],\n         [0.9136, 0.1820, 0.8874, 0.4438, 0.1972, 0.0263, 0.0357, 0.7935,\n          0.0289, 0.4706],\n         [0.8680, 0.4532, 0.4933, 0.2577, 0.9673, 0.4128, 0.9905, 0.8253,\n          0.5752, 0.6263],\n         [0.9378, 0.1689, 0.9699, 0.2013, 0.8008, 0.2273, 0.0152, 0.6527,\n          0.9564, 0.7463],\n         [0.6997, 0.0223, 0.2642, 0.3504, 0.7271, 0.1122, 0.0777, 0.7344,\n          0.6370, 0.0462],\n         [0.5022, 0.3847, 0.6860, 0.1049, 0.4116, 0.9179, 0.6933, 0.4260,\n          0.5017, 0.6186]],\n\n        [[0.7846, 0.4973, 0.7794, 0.0327, 0.8304, 0.6616, 0.3691, 0.2695,\n          0.5141, 0.6660],\n         [0.6899, 0.2415, 0.2830, 0.8367, 0.0245, 0.8613, 0.1538, 0.3497,\n          0.4950, 0.5539],\n         [0.6409, 0.9754, 0.7299, 0.4829, 0.0087, 0.3378, 0.0710, 0.8496,\n          0.6167, 0.9649],\n         [0.0342, 0.9561, 0.9293, 0.7732, 0.2452, 0.3628, 0.9129, 0.6254,\n          0.6970, 0.7297],\n         [0.7739, 0.9951, 0.5248, 0.3374, 0.8492, 0.5732, 0.2273, 0.9130,\n          0.8162, 0.7100],\n         [0.2663, 0.2693, 0.6805, 0.4985, 0.8902, 0.4739, 0.8211, 0.6708,\n          0.5524, 0.0312],\n         [0.7075, 0.7608, 0.9472, 0.4941, 0.6843, 0.9914, 0.8375, 0.7131,\n          0.3243, 0.2374],\n         [0.7097, 0.2090, 0.5852, 0.9726, 0.4310, 0.1874, 0.2741, 0.6442,\n          0.7714, 0.2317],\n         [0.9053, 0.6430, 0.8631, 0.0835, 0.2549, 0.4114, 0.7345, 0.8036,\n          0.1689, 0.9281],\n         [0.0962, 0.1449, 0.6353, 0.3121, 0.7232, 0.5333, 0.5179, 0.7467,\n          0.1407, 0.4947]],\n\n        [[0.1761, 0.0188, 0.7393, 0.6466, 0.8704, 0.8561, 0.1938, 0.3481,\n          0.1734, 0.6908],\n         [0.6394, 0.1194, 0.5672, 0.1414, 0.9342, 0.6414, 0.4891, 0.4878,\n          0.8651, 0.4734],\n         [0.9076, 0.3885, 0.0741, 0.6683, 0.4145, 0.2920, 0.0134, 0.3171,\n          0.4497, 0.4163],\n         [0.6793, 0.8689, 0.9973, 0.7473, 0.3278, 0.7318, 0.7775, 0.4594,\n          0.8377, 0.4866],\n         [0.9417, 0.8856, 0.7889, 0.7611, 0.0338, 0.8668, 0.8211, 0.7570,\n          0.6655, 0.2314],\n         [0.1964, 0.3149, 0.3547, 0.6707, 0.6230, 0.8112, 0.1322, 0.6132,\n          0.1871, 0.0761],\n         [0.7427, 0.8460, 0.2790, 0.0363, 0.9494, 0.0694, 0.7872, 0.7038,\n          0.3518, 0.5570],\n         [0.0052, 0.5349, 0.0538, 0.1295, 0.1483, 0.8549, 0.6863, 0.0515,\n          0.2650, 0.2012],\n         [0.5414, 0.7461, 0.0141, 0.5332, 0.8324, 0.6570, 0.4141, 0.3055,\n          0.4931, 0.0306],\n         [0.6063, 0.4651, 0.7492, 0.2643, 0.5117, 0.2934, 0.4964, 0.9461,\n          0.4951, 0.4794]],\n\n        [[0.0556, 0.6059, 0.0117, 0.8756, 0.7959, 0.0522, 0.3693, 0.4881,\n          0.9101, 0.2430],\n         [0.4988, 0.5823, 0.6817, 0.0723, 0.1438, 0.7499, 0.8329, 0.5030,\n          0.5234, 0.9170],\n         [0.9712, 0.8835, 0.8345, 0.3352, 0.7211, 0.1682, 0.7608, 0.7682,\n          0.4177, 0.0158],\n         [0.7443, 0.1525, 0.4269, 0.5432, 0.0546, 0.6216, 0.0301, 0.4967,\n          0.4797, 0.9637],\n         [0.0545, 0.4052, 0.7035, 0.3121, 0.9903, 0.6636, 0.1529, 0.7380,\n          0.6295, 0.1694],\n         [0.3750, 0.8600, 0.5454, 0.7601, 0.8379, 0.2379, 0.5637, 0.2464,\n          0.0517, 0.0214],\n         [0.0587, 0.8996, 0.0883, 0.9088, 0.3647, 0.6713, 0.2930, 0.4884,\n          0.7081, 0.1754],\n         [0.7697, 0.6730, 0.6100, 0.8272, 0.0949, 0.7312, 0.9841, 0.6921,\n          0.2785, 0.5288],\n         [0.1322, 0.5126, 0.9923, 0.4473, 0.4980, 0.9787, 0.7236, 0.1060,\n          0.4580, 0.5114],\n         [0.8200, 0.1289, 0.8983, 0.1269, 0.3027, 0.8991, 0.4423, 0.6330,\n          0.8591, 0.7011]],\n\n        [[0.6899, 0.0586, 0.4776, 0.0314, 0.1328, 0.7747, 0.4828, 0.1648,\n          0.1019, 0.1494],\n         [0.9243, 0.5289, 0.8553, 0.5994, 0.6361, 0.8057, 0.2572, 0.2566,\n          0.5515, 0.8807],\n         [0.1460, 0.2477, 0.8570, 0.3485, 0.8311, 0.1194, 0.4656, 0.5891,\n          0.5844, 0.8742],\n         [0.7093, 0.1013, 0.2255, 0.7411, 0.8052, 0.4564, 0.3019, 0.0336,\n          0.1436, 0.6598],\n         [0.3681, 0.3925, 0.4480, 0.6992, 0.6656, 0.0656, 0.9105, 0.4568,\n          0.0719, 0.6048],\n         [0.5209, 0.6878, 0.8326, 0.9912, 0.6545, 0.4618, 0.6805, 0.5198,\n          0.1949, 0.4197],\n         [0.4550, 0.9569, 0.3152, 0.7124, 0.4231, 0.9815, 0.8730, 0.0665,\n          0.0582, 0.4097],\n         [0.9900, 0.2305, 0.9790, 0.4430, 0.3120, 0.6284, 0.5796, 0.0779,\n          0.0030, 0.4355],\n         [0.9247, 0.5925, 0.3886, 0.3040, 0.6689, 0.2906, 0.3285, 0.6490,\n          0.2691, 0.5724],\n         [0.7146, 0.6724, 0.2640, 0.3018, 0.9292, 0.8344, 0.5226, 0.9961,\n          0.2773, 0.5861]]])"
     },
     "execution_count": 45,
     "metadata": {},
     "output_type": "execute_result"
    }
   ],
   "source": [
    "t6"
   ],
   "metadata": {
    "collapsed": false,
    "ExecuteTime": {
     "end_time": "2024-11-24T20:01:49.080116Z",
     "start_time": "2024-11-24T20:01:49.074278Z"
    }
   },
   "id": "94857cdb4d98eb67",
   "execution_count": 45
  },
  {
   "cell_type": "code",
   "outputs": [
    {
     "data": {
      "text/plain": "torch.Size([10, 10, 10])"
     },
     "execution_count": 46,
     "metadata": {},
     "output_type": "execute_result"
    }
   ],
   "source": [
    "t6.shape"
   ],
   "metadata": {
    "collapsed": false,
    "ExecuteTime": {
     "end_time": "2024-11-24T20:02:01.891656Z",
     "start_time": "2024-11-24T20:02:01.889234Z"
    }
   },
   "id": "1fc13f3c534c7cb5",
   "execution_count": 46
  },
  {
   "cell_type": "code",
   "outputs": [
    {
     "data": {
      "text/plain": "3"
     },
     "execution_count": 47,
     "metadata": {},
     "output_type": "execute_result"
    }
   ],
   "source": [
    "t6.ndim"
   ],
   "metadata": {
    "collapsed": false,
    "ExecuteTime": {
     "end_time": "2024-11-24T20:02:09.185964Z",
     "start_time": "2024-11-24T20:02:09.183347Z"
    }
   },
   "id": "b31b45546646a2e6",
   "execution_count": 47
  },
  {
   "cell_type": "markdown",
   "source": [
    "shape and size are the same thing\n"
   ],
   "metadata": {
    "collapsed": false
   },
   "id": "16db5eccb782e6b1"
  },
  {
   "cell_type": "code",
   "outputs": [
    {
     "data": {
      "text/plain": "torch.Size([10, 10, 10])"
     },
     "execution_count": 49,
     "metadata": {},
     "output_type": "execute_result"
    }
   ],
   "source": [
    "t6.size()"
   ],
   "metadata": {
    "collapsed": false,
    "ExecuteTime": {
     "end_time": "2024-11-24T20:02:26.108992Z",
     "start_time": "2024-11-24T20:02:26.105858Z"
    }
   },
   "id": "33d18de5ad9809b3",
   "execution_count": 49
  },
  {
   "cell_type": "code",
   "outputs": [],
   "source": [
    "image = torch.rand(224,224,3)"
   ],
   "metadata": {
    "collapsed": false,
    "ExecuteTime": {
     "end_time": "2024-11-24T20:17:10.187978Z",
     "start_time": "2024-11-24T20:17:10.185113Z"
    }
   },
   "id": "7662e8b5f25e24b3",
   "execution_count": 50
  },
  {
   "cell_type": "code",
   "outputs": [],
   "source": [],
   "metadata": {
    "collapsed": false
   },
   "id": "fe37459ffa36794d"
  }
 ],
 "metadata": {
  "kernelspec": {
   "display_name": "Python 3",
   "language": "python",
   "name": "python3"
  },
  "language_info": {
   "codemirror_mode": {
    "name": "ipython",
    "version": 2
   },
   "file_extension": ".py",
   "mimetype": "text/x-python",
   "name": "python",
   "nbconvert_exporter": "python",
   "pygments_lexer": "ipython2",
   "version": "2.7.6"
  }
 },
 "nbformat": 4,
 "nbformat_minor": 5
}
